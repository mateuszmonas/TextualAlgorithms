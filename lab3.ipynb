{
 "cells": [
  {
   "cell_type": "code",
   "execution_count": 24,
   "metadata": {},
   "outputs": [],
   "source": [
    "import os\n",
    "from heapq import heappush, heappop\n",
    "from queue import Queue\n",
    "from time import perf_counter\n",
    "from typing import Dict, List\n",
    "from bitarray import bitarray"
   ]
  },
  {
   "cell_type": "code",
   "execution_count": 25,
   "metadata": {
    "pycharm": {
     "name": "#%%\n"
    }
   },
   "outputs": [],
   "source": [
    "class Node:\n",
    "    def __init__(self, weight: int, letter: str = None, index: int = -1,  parent: 'Node' = None, left: 'Node' = None, right: 'Node' = None) -> None:\n",
    "        super().__init__()\n",
    "        self.weight = weight\n",
    "        self.letter = letter\n",
    "        self.parent = parent\n",
    "        self.left = left\n",
    "        self.right = right\n",
    "        self.index = index\n",
    "\n",
    "    def create_dict(self, dictionary: Dict, code: bitarray = bitarray()):\n",
    "        if self.letter:\n",
    "            dictionary[self.letter] = code\n",
    "        if self.left:\n",
    "            code_copy = code.copy()\n",
    "            code_copy.append(0)\n",
    "            self.left.create_dict(dictionary, code_copy)\n",
    "        if self.right:\n",
    "            code_copy = code.copy()\n",
    "            code_copy.append(1)\n",
    "            self.right.create_dict(dictionary, code_copy)\n",
    "\n",
    "    def __lt__(self, other):\n",
    "        if not isinstance(other, type(self)):\n",
    "            return NotImplemented\n",
    "        else:\n",
    "            return self.weight < other.weight\n",
    "\n",
    "    def __le__(self, other):\n",
    "        if not isinstance(other, type(self)):\n",
    "            return NotImplemented\n",
    "        else:\n",
    "            return self.weight <= other.weight\n",
    "\n",
    "    def __repr__(self):\n",
    "        return f\"{self.weight} : {self.letter if self.letter is not None else '_'}\"\n",
    "\n",
    "    @staticmethod\n",
    "    def swap(node1: 'Node', node2: 'Node'):\n",
    "        if node1 == node2 or node1.parent == node2 or node2.parent == node1:\n",
    "            return\n",
    "        if node1.parent==node2.parent:\n",
    "            if node1.parent.left == node1:\n",
    "                node1.parent.left = node2\n",
    "                node1.parent.right = node1\n",
    "            else:\n",
    "                node1.parent.left = node1\n",
    "                node1.parent.right = node2\n",
    "            return\n",
    "        node1_parent = node1.parent\n",
    "        node2_parent = node2.parent\n",
    "        if node1 == node1_parent.left:\n",
    "            node1_parent.left = node2\n",
    "        else:\n",
    "            node1_parent.right = node2\n",
    "        if node2 == node2_parent.left:\n",
    "            node2_parent.left = node1\n",
    "        else:\n",
    "            node2_parent.right = node1\n",
    "        node1.parent = node2_parent\n",
    "        node2.parent = node1_parent"
   ]
  },
  {
   "cell_type": "code",
   "execution_count": 26,
   "metadata": {
    "pycharm": {
     "name": "#%%\n"
    }
   },
   "outputs": [],
   "source": [
    "# format\n",
    "# -> 4 bytes for letter weights length \n",
    "# -> letter weights (1 byte for encoded letter 4 bytes for letter weight) \n",
    "# -> encoded text\n",
    "class StaticHuffmanTree:\n",
    "    def __init__(self, weights: Dict[str, int]) -> None:\n",
    "        super().__init__()\n",
    "        h = []\n",
    "        for letter, weight in weights.items():\n",
    "            heappush(h, Node(weight, letter))\n",
    "        while 1 < len(h):\n",
    "            node1 = heappop(h)\n",
    "            node2 = heappop(h)\n",
    "            heappush(h, Node(node1.weight+node2.weight, left=node1, right=node2))\n",
    "        self.root = h[0]\n",
    "        self.code_dictionary = {}\n",
    "        self.root.create_dict(self.code_dictionary)\n",
    "\n",
    "    @property\n",
    "    def dictionary(self):\n",
    "        if self.root.left is None and self.root.right is None:\n",
    "            code = bitarray()\n",
    "            code.append(0)\n",
    "            return {self.root.letter: code}\n",
    "        return self.code_dictionary\n",
    "\n",
    "    @staticmethod\n",
    "    def encode(text: str) -> bitarray:\n",
    "        letters = {}\n",
    "        for letter in text:\n",
    "            if letter not in letters.keys():\n",
    "                letters[letter] = 0\n",
    "            letters[letter] += 1\n",
    "        tree = StaticHuffmanTree(letters)\n",
    "        table = bitarray()\n",
    "        for key, value in letters.items():\n",
    "            letter = bitarray()\n",
    "            letter.fromstring(key)\n",
    "            weight = bitarray()\n",
    "            weight.frombytes(value.to_bytes(4, byteorder='big', signed=False))\n",
    "            table += letter + weight\n",
    "        table_length = bitarray()\n",
    "        table_length.frombytes(len(table).to_bytes(4, byteorder='big', signed=False))\n",
    "        bits = table_length + table\n",
    "        for letter in text:\n",
    "            bits += tree.dictionary[letter]\n",
    "        return bits\n",
    "\n",
    "    @staticmethod\n",
    "    def decode(bits: bitarray) -> str:\n",
    "        table_length = int.from_bytes(bits[:32], byteorder='big', signed=True)\n",
    "        bits = bits[32:]\n",
    "        i = 0\n",
    "        letters = {}\n",
    "        while i < table_length:\n",
    "            letter = bits[:8].tobytes().decode()\n",
    "            i += 8\n",
    "            bits = bits[8:]\n",
    "            weight = 0\n",
    "            for bit in bits[:32]:\n",
    "                weight = (weight << 1) | bit\n",
    "            i += 32\n",
    "            bits = bits[32:]\n",
    "            letters[letter] = weight\n",
    "        tree = StaticHuffmanTree(letters)\n",
    "        i = 0\n",
    "        text = \"\"\n",
    "        while i < len(bits):\n",
    "            node = tree.root\n",
    "            while node.left is not None and node.right is not None:\n",
    "                if bits[i]:\n",
    "                    node = node.right\n",
    "                else:\n",
    "                    node = node.left\n",
    "                i += 1\n",
    "            text += node.letter\n",
    "        return text"
   ]
  },
  {
   "cell_type": "code",
   "execution_count": 27,
   "metadata": {
    "pycharm": {
     "name": "#%%\n"
    }
   },
   "outputs": [],
   "source": [
    "# format\n",
    "# NYT code -> new encoded letter -> letter code\n",
    "class AdaptiveHuffmanTree:\n",
    "    def __init__(self) -> None:\n",
    "        super().__init__()\n",
    "        self.root = self.NYT = Node(0, letter='\\0')\n",
    "        self.code_dictionary: Dict[str, bytearray] = {}\n",
    "        self.leafs: Dict[str, Node] = {}\n",
    "        self.root.create_dict(self.code_dictionary)\n",
    "        self.nodes: List[Node] = []\n",
    "\n",
    "    def split_nyt(self, new_node):\n",
    "        new_nyt = Node(0, letter='\\0')\n",
    "        self.NYT.left = new_nyt\n",
    "        self.NYT.right = new_node\n",
    "        self.NYT.letter = None\n",
    "        new_node.parent = self.NYT\n",
    "        new_nyt.parent = self.NYT\n",
    "        self.NYT = new_nyt\n",
    "\n",
    "    def find_leader(self, node: Node):\n",
    "        index = node.index - 1\n",
    "        while 0 <= index and self.nodes[index].weight < node.weight:\n",
    "            index -= 1\n",
    "        return self.nodes[index + 1]\n",
    "\n",
    "    def update_indexes(self):\n",
    "        self.nodes: List[Node] = []\n",
    "        queue = Queue()\n",
    "        queue.put(self.root)\n",
    "        index = 0\n",
    "        while not queue.empty():\n",
    "            node = queue.get()\n",
    "            self.nodes.append(node)\n",
    "            node.index = index\n",
    "            if node.right is not None:\n",
    "                queue.put(node.right)\n",
    "            if node.left is not None:\n",
    "                queue.put(node.left)\n",
    "            index += 1\n",
    "\n",
    "    def increment(self, node: Node) -> bool:\n",
    "        tree_updated = False\n",
    "        while node is not None:\n",
    "            node.weight += 1\n",
    "            leader = self.find_leader(node)\n",
    "            if not (leader == node or node.parent == leader or leader.parent == node):\n",
    "                Node.swap(node, leader)\n",
    "                self.update_indexes()\n",
    "                tree_updated = True\n",
    "            node = node.parent\n",
    "        return tree_updated\n",
    "\n",
    "    def update_tree(self, letter: str) -> bool:\n",
    "        if letter not in self.leafs.keys():\n",
    "            new_node = Node(1, letter)\n",
    "            self.leafs[letter] = new_node\n",
    "            self.split_nyt(new_node)\n",
    "            new_parent = new_node.parent\n",
    "            new_parent.index = len(self.nodes)\n",
    "            self.nodes.append(new_parent)\n",
    "            new_node.index = len(self.nodes)\n",
    "            self.nodes.append(new_node)\n",
    "            self.increment(new_parent)\n",
    "            tree_updated = True\n",
    "        else:\n",
    "            tree_updated = self.increment(self.leafs[letter])\n",
    "        if tree_updated:\n",
    "            self.root.create_dict(self.code_dictionary)\n",
    "        return tree_updated\n",
    "\n",
    "    @property\n",
    "    def dictionary(self):\n",
    "        if self.root.left is None and self.root.right is None:\n",
    "            code = bitarray()\n",
    "            code.append(0)\n",
    "            return {self.root.letter: code}\n",
    "        return self.code_dictionary\n",
    "\n",
    "    @staticmethod\n",
    "    def encode(text: str):\n",
    "        tree = AdaptiveHuffmanTree()\n",
    "        bits = bitarray()\n",
    "        current_dict = tree.dictionary.copy()\n",
    "        for letter in text:\n",
    "            if tree.update_tree(letter):\n",
    "                bits += current_dict['\\0']\n",
    "                current_dict = tree.dictionary.copy()\n",
    "                letter_code = bitarray()\n",
    "                letter_code.fromstring(letter)\n",
    "                bits += letter_code\n",
    "            bits += current_dict[letter]\n",
    "        return bits\n",
    "\n",
    "    @staticmethod\n",
    "    def decode(bits: bitarray):\n",
    "        tree = AdaptiveHuffmanTree()\n",
    "        i = 1\n",
    "        text = \"\"\n",
    "        updated = False\n",
    "        while i < len(bits):\n",
    "            node = tree.root\n",
    "            while node.left is not None and node.right is not None:\n",
    "                if bits[i]:\n",
    "                    node = node.right\n",
    "                else:\n",
    "                    node = node.left\n",
    "                i += 1\n",
    "            if node.letter == '\\0':\n",
    "                tree.update_tree(bits[i:i+8].tobytes().decode())\n",
    "                updated = True\n",
    "                i += 8\n",
    "            else:\n",
    "                if not updated:\n",
    "                    tree.update_tree(node.letter)\n",
    "                updated = False\n",
    "                text += node.letter\n",
    "        return text\n",
    "        "
   ]
  },
  {
   "cell_type": "code",
   "execution_count": 28,
   "metadata": {
    "pycharm": {
     "name": "#%%\n"
    }
   },
   "outputs": [],
   "source": [
    "def test(input_file_name: str):\n",
    "    output_file_name = \"result.txt\"\n",
    "    uncompressed_size = os.path.getsize(input_file_name)\n",
    "    with open(input_file_name, \"r\") as file:\n",
    "        text = file.read()\n",
    "    print('Static huffman tree ')\n",
    "    with open(output_file_name, \"wb\") as file:\n",
    "        file.truncate()\n",
    "        start = perf_counter()\n",
    "        bits = StaticHuffmanTree.encode(text)\n",
    "        end = perf_counter()\n",
    "        print(f'encode: {end-start}')\n",
    "        start = perf_counter()\n",
    "        StaticHuffmanTree.decode(bits)\n",
    "        end = perf_counter()\n",
    "        print(f'decode: {end-start}')\n",
    "        bits.tofile(file)\n",
    "    compressed_size = os.path.getsize(output_file_name)\n",
    "    print(f'compression: {compressed_size * 100 / uncompressed_size}%')\n",
    "    print('Adaptive huffman tree ')\n",
    "    with open(output_file_name, \"wb\") as file:\n",
    "        file.truncate()\n",
    "        start = perf_counter()\n",
    "        bits = AdaptiveHuffmanTree.encode(text)\n",
    "        end = perf_counter()\n",
    "        print(f'encode: {end-start}')\n",
    "        start = perf_counter()\n",
    "        AdaptiveHuffmanTree.decode(bits)\n",
    "        end = perf_counter()\n",
    "        print(f'decode: {end-start}')\n",
    "        bits.tofile(file)\n",
    "    compressed_size = os.path.getsize(output_file_name)\n",
    "    print(f'compression: {compressed_size * 100 / uncompressed_size}%')"
   ]
  },
  {
   "cell_type": "code",
   "execution_count": 29,
   "metadata": {
    "pycharm": {
     "name": "#%%\n"
    }
   },
   "outputs": [
    {
     "name": "stdout",
     "output_type": "stream",
     "text": [
      "1kb\n",
      "Static huffman tree \n",
      "encode: 0.03460605599684641\n",
      "decode: 0.2503698689979501\n",
      "compression: 53.616273774153676%\n",
      "Adaptive huffman tree \n",
      "encode: 0.6778049720014678\n",
      "decode: 0.7732092869991902\n",
      "compression: 57.50905423868491%\n"
     ]
    }
   ],
   "source": [
    "print('1kb')\n",
    "test(\"1kb.txt\")"
   ]
  },
  {
   "cell_type": "code",
   "execution_count": 30,
   "metadata": {
    "pycharm": {
     "name": "#%%\n"
    }
   },
   "outputs": [
    {
     "name": "stdout",
     "output_type": "stream",
     "text": [
      "10kb\n",
      "Static huffman tree \n",
      "encode: 0.03496107799583115\n",
      "decode: 0.23484535700117704\n",
      "compression: 53.70759397488044%\n",
      "Adaptive huffman tree \n",
      "encode: 0.6459689160037669\n",
      "decode: 0.7298003120013163\n",
      "compression: 57.20846556116748%\n"
     ]
    }
   ],
   "source": [
    "print('10kb')\n",
    "test(\"10kb.txt\")"
   ]
  },
  {
   "cell_type": "code",
   "execution_count": 31,
   "metadata": {
    "pycharm": {
     "name": "#%%\n"
    }
   },
   "outputs": [
    {
     "name": "stdout",
     "output_type": "stream",
     "text": [
      "100kb\n",
      "Static huffman tree \n",
      "encode: 0.03551409699866781\n",
      "decode: 0.2367114809967461\n",
      "compression: 53.69187797798346%\n",
      "Adaptive huffman tree \n",
      "encode: 0.7079024390041013\n",
      "decode: 0.7962510680008563\n",
      "compression: 57.63185278492798%\n"
     ]
    }
   ],
   "source": [
    "print('100kb')\n",
    "test(\"100kb.txt\")"
   ]
  },
  {
   "cell_type": "code",
   "execution_count": 32,
   "metadata": {
    "pycharm": {
     "name": "#%%\n"
    }
   },
   "outputs": [
    {
     "name": "stdout",
     "output_type": "stream",
     "text": [
      "1mb\n",
      "Static huffman tree \n",
      "encode: 0.036959092001779936\n",
      "decode: 0.26830217700626235\n",
      "compression: 53.66966990910541%\n",
      "Adaptive huffman tree \n",
      "encode: 0.9142892409945489\n",
      "decode: 0.9311086989982869\n",
      "compression: 57.81573911656833%\n"
     ]
    }
   ],
   "source": [
    "print('1mb')\n",
    "test(\"1mb.txt\")"
   ]
  }
 ],
 "metadata": {
  "kernelspec": {
   "display_name": "Python 3",
   "language": "python",
   "name": "python3"
  },
  "language_info": {
   "codemirror_mode": {
    "name": "ipython",
    "version": 3
   },
   "file_extension": ".py",
   "mimetype": "text/x-python",
   "name": "python",
   "nbconvert_exporter": "python",
   "pygments_lexer": "ipython3",
   "version": "3.7.5"
  }
 },
 "nbformat": 4,
 "nbformat_minor": 1
}