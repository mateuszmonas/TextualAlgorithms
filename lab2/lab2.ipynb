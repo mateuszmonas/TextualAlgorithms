{
 "cells": [
  {
   "cell_type": "markdown",
   "source": [
    "## trie"
   ],
   "metadata": {
    "collapsed": false,
    "pycharm": {
     "name": "#%% md\n"
    }
   }
  },
  {
   "cell_type": "code",
   "execution_count": null,
   "metadata": {},
   "outputs": [],
   "source": [
    "from typing import Dict\n",
    "from queue import LifoQueue"
   ]
  },
  {
   "cell_type": "code",
   "execution_count": null,
   "outputs": [],
   "source": [
    "class TrieNode:\n",
    "\n",
    "    def __init__(self, letter: str = \"\", parent: 'TrieNode' = None, depth: int = 0) -> None:\n",
    "        super().__init__()\n",
    "        self.letter: str = letter\n",
    "        self.children: Dict[str, TrieNode] = dict()\n",
    "        self.depth: int = depth\n",
    "        self.parent: TrieNode = parent\n",
    "        self.link: TrieNode = None\n",
    "\n",
    "    def graft(self, text: str, sibling: 'TrieNode' = None) -> 'TrieNode':\n",
    "        if len(text) == 0:\n",
    "            return self\n",
    "        if text[0] not in self.children:\n",
    "            self.children[text[0]] = TrieNode(text[0], self, self.depth + 1)\n",
    "        if sibling:\n",
    "            sibling = sibling.children[text[0]]\n",
    "            sibling.link = self.children[text[0]]\n",
    "        return self.children[text[0]].graft(text[1:], sibling)\n",
    "\n",
    "    def __contains__(self, item):\n",
    "        if len(item) == 0:\n",
    "            return True\n",
    "        if not isinstance(item, str) or not item[0] in self.children.keys():\n",
    "            return False\n",
    "        return self.contains(item[1:])\n",
    "        \n",
    "    def __len__(self):\n",
    "        length = 0\n",
    "        for node in self.children.values():\n",
    "            length += len(node)\n",
    "        return length + 1\n",
    "\n",
    "\n",
    "class Trie:\n",
    "\n",
    "    def __init__(self, text: str) -> None:\n",
    "        self.root: TrieNode = TrieNode()\n",
    "        leaf = self.root.graft(text)\n",
    "        self.root.children[text[0]].link = self.root\n",
    "        for i in range(1, len(text)):\n",
    "            head, sibling = self.up_link_down(leaf)\n",
    "            if not head:\n",
    "                sibling = self.root.children[text[i-1]]\n",
    "                sibling.link = self.root\n",
    "                head = self.root\n",
    "            leaf = head.graft(text[i + head.depth:], sibling)\n",
    "\n",
    "    def __contains__(self, item):\n",
    "        return isinstance(item, str) and item in self.root\n",
    "        \n",
    "    def up_link_down(self, sibling: TrieNode) -> (TrieNode, TrieNode):\n",
    "        letters = LifoQueue()\n",
    "        while sibling and not sibling.link:\n",
    "            letters.put(sibling.letter)\n",
    "            sibling = sibling.parent\n",
    "        if not sibling:\n",
    "            return None, None\n",
    "        node = sibling.link\n",
    "        while not letters.empty():\n",
    "            current_letter = letters.get()\n",
    "            if current_letter in node.children.keys():\n",
    "                node = node.children[current_letter]\n",
    "                sibling = sibling.children[current_letter]\n",
    "                sibling.link = node\n",
    "            else:\n",
    "                break\n",
    "        return node, sibling\n",
    "\n",
    "    def __len__(self):\n",
    "        return len(self.root)"
   ],
   "metadata": {
    "collapsed": false,
    "pycharm": {
     "name": "#%%\n"
    }
   }
  },
  {
   "cell_type": "markdown",
   "source": [
    "## suffix tree"
   ],
   "metadata": {
    "collapsed": false,
    "pycharm": {
     "name": "#%% md\n"
    }
   }
  },
  {
   "cell_type": "code",
   "execution_count": null,
   "outputs": [],
   "source": [
    "\n",
    "class SuffixTreeNode:\n",
    "\n",
    "    def __init__(self, text: str, start: int = 0, end: int = 0, depth: int = 0, parent: 'SuffixTreeNode' = None) -> None:\n",
    "        super().__init__()\n",
    "        self.depth = depth\n",
    "        self.start = start\n",
    "        self.end = end\n",
    "        self.full_text = text\n",
    "        self.children: Dict[str, SuffixTreeNode] = dict()\n",
    "        self.parent: SuffixTreeNode = parent\n",
    "        self.link: SuffixTreeNode = None\n",
    "\n",
    "    def graft(self, start):\n",
    "        start = start + self.depth\n",
    "        text = self.full_text[start:]\n",
    "        child = SuffixTreeNode(self.full_text, start, len(self.full_text), self.depth + len(text), self)\n",
    "        self.children[text[0]] = child\n",
    "\n",
    "    def break_path(self, text: str):\n",
    "        length = len(text)\n",
    "        child = self.children[text[0]]\n",
    "        new_node = SuffixTreeNode(self.full_text, child.start, child.start + length, self.depth + length, self)\n",
    "        child.start = child.start + length\n",
    "        child.parent = new_node\n",
    "        new_node.children[child.label[0]] = child\n",
    "        self.children[text[0]] = new_node\n",
    "        return new_node\n",
    "\n",
    "    def fast_find(self, text: str):\n",
    "        child = self.children[text[0]]\n",
    "        if len(child.label) < len(text):\n",
    "            return child.fast_find(text[len(child.label):])\n",
    "        elif len(child.label) == len(text):\n",
    "            return child\n",
    "        else:\n",
    "            return self.break_path(text)\n",
    "\n",
    "    def slow_find(self, text: str) -> 'SuffixTreeNode':\n",
    "        if len(text) == 0 or text[0] not in self.children.keys():\n",
    "            return self\n",
    "        child = self.children[text[0]]\n",
    "        for i in range(1, len(child.label)):\n",
    "            if child.label[i] != text[i]:\n",
    "                return self.break_path(text[:i])\n",
    "        return child.slow_find(text[len(child.label):])\n",
    "\n",
    "    @property\n",
    "    def label(self):\n",
    "        return self.full_text[self.start:self.end]\n",
    "\n",
    "    def __contains__(self, item):\n",
    "        if len(item) == 0:\n",
    "            return True\n",
    "        if not isinstance(item, str) or item[0] not in self.children:\n",
    "            return False\n",
    "        child = self.children[item[0]]\n",
    "        for i in range(1, min(len(child.label), len(item))):\n",
    "            if child.label[i] != item[i]:\n",
    "                return False\n",
    "        return len(item) < len(child.label) or item[len(child.label):] in child\n",
    "\n",
    "    def __repr__(self) -> str:\n",
    "        return f\"[{self.start}:{self.end}] {self.full_text[self.start:self.end]}\"\n",
    "\n",
    "\n",
    "class SuffixTree:\n",
    "\n",
    "    def __init__(self, text: str) -> None:\n",
    "        self.root: SuffixTreeNode = SuffixTreeNode(text)\n",
    "        self.root.graft(0)\n",
    "        for i in range(1, len(text)):\n",
    "            head= self.root.slow_find(text[i:])\n",
    "            head.graft(i)\n",
    "\n",
    "    def __contains__(self, item):\n",
    "        return isinstance(item, str) and item in self.root"
   ],
   "metadata": {
    "collapsed": false,
    "pycharm": {
     "name": "#%%\n"
    }
   }
  }
 ],
 "metadata": {
  "kernelspec": {
   "display_name": "Python 3",
   "language": "python",
   "name": "python3"
  },
  "language_info": {
   "codemirror_mode": {
    "name": "ipython",
    "version": 3
   },
   "file_extension": ".py",
   "mimetype": "text/x-python",
   "name": "python",
   "nbconvert_exporter": "python",
   "pygments_lexer": "ipython3",
   "version": "3.7.5"
  },
  "pycharm": {
   "stem_cell": {
    "cell_type": "raw",
    "source": [],
    "metadata": {
     "collapsed": false
    }
   }
  }
 },
 "nbformat": 4,
 "nbformat_minor": 4
}