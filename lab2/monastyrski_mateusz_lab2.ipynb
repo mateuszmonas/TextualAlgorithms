{
 "cells": [
  {
   "cell_type": "markdown",
   "metadata": {
    "pycharm": {
     "name": "#%% md\n"
    }
   },
   "source": [
    "## trie"
   ]
  },
  {
   "cell_type": "code",
   "execution_count": 1,
   "metadata": {
    "pycharm": {
     "is_executing": false
    }
   },
   "outputs": [],
   "source": [
    "from typing import Dict\n",
    "from queue import LifoQueue"
   ]
  },
  {
   "cell_type": "code",
   "execution_count": 2,
   "metadata": {
    "pycharm": {
     "is_executing": false,
     "name": "#%%\n"
    }
   },
   "outputs": [],
   "source": [
    "class TrieNode:\n",
    "\n",
    "    def __init__(self, letter: str = \"\", parent: 'TrieNode' = None, depth: int = 0) -> None:\n",
    "        super().__init__()\n",
    "        self.letter: str = letter\n",
    "        self.children: Dict[str, TrieNode] = dict()\n",
    "        self.depth: int = depth\n",
    "        self.parent: TrieNode = parent\n",
    "        self.link: TrieNode = None\n",
    "\n",
    "    def graft(self, text: str, sibling: 'TrieNode' = None) -> 'TrieNode':\n",
    "        node = self\n",
    "        for current_letter in list(text):\n",
    "            if current_letter not in node.children:\n",
    "                node.children[current_letter] = TrieNode(current_letter, node, node.depth + 1)\n",
    "            node = node.children[current_letter]\n",
    "            if sibling:\n",
    "                sibling = sibling.children[current_letter]\n",
    "                sibling.link = node\n",
    "        return node\n",
    "\n",
    "    def __contains__(self, item):\n",
    "        node = self\n",
    "        if not isinstance(item, str):\n",
    "            return False\n",
    "        while item:\n",
    "            if not item[0] in node.children.keys():\n",
    "                return False\n",
    "            node = node.children[item[0]]\n",
    "            item = item[1:]\n",
    "        return True\n",
    "\n",
    "\n",
    "class Trie:\n",
    "\n",
    "    def __init__(self, text: str) -> None:\n",
    "        self.root: TrieNode = TrieNode()\n",
    "        leaf = self.root.graft(text)\n",
    "        self.root.children[text[0]].link = self.root\n",
    "        for i in range(1, len(text)):\n",
    "            head, sibling = self.up_link_down(leaf)\n",
    "            if not head:\n",
    "                sibling = self.root.children[text[i - 1]]\n",
    "                sibling.link = self.root\n",
    "                head = self.root\n",
    "            leaf = head.graft(text[i + head.depth:], sibling)\n",
    "\n",
    "    def __contains__(self, item):\n",
    "        return isinstance(item, str) and item in self.root\n",
    "\n",
    "    def up_link_down(self, sibling: TrieNode) -> (TrieNode, TrieNode):\n",
    "        letters = LifoQueue()\n",
    "        while sibling and not sibling.link:\n",
    "            letters.put(sibling.letter)\n",
    "            sibling = sibling.parent\n",
    "        if not sibling:\n",
    "            return None, None\n",
    "        node = sibling.link\n",
    "        while not letters.empty():\n",
    "            current_letter = letters.get()\n",
    "            if current_letter in node.children.keys():\n",
    "                node = node.children[current_letter]\n",
    "                sibling = sibling.children[current_letter]\n",
    "                sibling.link = node\n",
    "            else:\n",
    "                break\n",
    "        return node, sibling"
   ]
  },
  {
   "cell_type": "markdown",
   "metadata": {
    "pycharm": {
     "name": "#%% md\n"
    }
   },
   "source": [
    "## suffix tree"
   ]
  },
  {
   "cell_type": "code",
   "execution_count": 3,
   "metadata": {
    "pycharm": {
     "is_executing": false,
     "name": "#%%\n"
    }
   },
   "outputs": [],
   "source": [
    "class SuffixTreeNode:\n",
    "\n",
    "    def __init__(self, text: str, start: int = 0, end: int = 0, depth: int = 0, parent: 'SuffixTreeNode' = None) -> None:\n",
    "        super().__init__()\n",
    "        self.depth = depth\n",
    "        self.start = start\n",
    "        self.end = end\n",
    "        self.full_text = text\n",
    "        self.children: Dict[str, SuffixTreeNode] = dict()\n",
    "        self.parent: SuffixTreeNode = parent\n",
    "        self.link: SuffixTreeNode = None\n",
    "\n",
    "    def graft(self, start) -> 'SuffixTreeNode':\n",
    "        start = start + self.depth\n",
    "        text = self.full_text[start:]\n",
    "        child = SuffixTreeNode(self.full_text, start, len(self.full_text), self.depth + len(text), self)\n",
    "        self.children[text[0]] = child\n",
    "        return child\n",
    "\n",
    "    def break_path(self, text: str) -> 'SuffixTreeNode':\n",
    "        length = len(text)\n",
    "        child = self.children[text[0]]\n",
    "        new_node = SuffixTreeNode(self.full_text, child.start, child.start + length, self.depth + length, self)\n",
    "        child.start = child.start + length\n",
    "        child.parent = new_node\n",
    "        new_node.children[child.label[0]] = child\n",
    "        self.children[text[0]] = new_node\n",
    "        return new_node\n",
    "\n",
    "    def fast_find(self, text: str) -> 'SuffixTreeNode':\n",
    "        if len(text) == 0:\n",
    "            return self\n",
    "        child = self.children[text[0]]\n",
    "        if len(child.label) < len(text):\n",
    "            return child.fast_find(text[len(child.label):])\n",
    "        elif len(child.label) == len(text):\n",
    "            return child\n",
    "        else:\n",
    "            return self.break_path(text)\n",
    "\n",
    "    def slow_find(self, text: str) -> 'SuffixTreeNode':\n",
    "        if len(text) == 0 or text[0] not in self.children.keys():\n",
    "            return self\n",
    "        child = self.children[text[0]]\n",
    "        for i in range(1, len(child.label)):\n",
    "            if child.label[i] != text[i]:\n",
    "                return self.break_path(text[:i])\n",
    "        return child.slow_find(text[len(child.label):])\n",
    "\n",
    "    @property\n",
    "    def label(self):\n",
    "        return self.full_text[self.start:self.end]\n",
    "\n",
    "    def __contains__(self, item):\n",
    "        if len(item) == 0:\n",
    "            return True\n",
    "        if not isinstance(item, str) or item[0] not in self.children:\n",
    "            return False\n",
    "        child = self.children[item[0]]\n",
    "        for i in range(1, min(len(child.label), len(item))):\n",
    "            if child.label[i] != item[i]:\n",
    "                return False\n",
    "        return len(item) < len(child.label) or item[len(child.label):] in child\n",
    "\n",
    "    def __repr__(self) -> str:\n",
    "        return f\"[{self.start}:{self.end}] {self.full_text[self.start:self.end]}\"\n",
    "\n",
    "\n",
    "class SuffixTree:\n",
    "\n",
    "    def __init__(self, text: str, slow_mode = False) -> None:\n",
    "        self.root = last_head = SuffixTreeNode(text)\n",
    "        leaf = self.root.graft(0)\n",
    "        if slow_mode:\n",
    "            for i in range(1, len(text)):\n",
    "                head = self.root.slow_find(text[i:])\n",
    "                head.graft(i)\n",
    "        else:\n",
    "            for i in range(1, len(text)):\n",
    "                if last_head == self.root:\n",
    "                    last_head = self.root.slow_find(leaf.label[1:])\n",
    "                    leaf = last_head.graft(i)\n",
    "                    continue\n",
    "                parent = last_head.parent\n",
    "                if parent == self.root:\n",
    "                    link = parent.fast_find(last_head.label[1:])\n",
    "                else:\n",
    "                    link = parent.link.fast_find(last_head.label)\n",
    "                if len(link.children) == 1:\n",
    "                    head = link\n",
    "                else:\n",
    "                    head = link.slow_find(leaf.label)\n",
    "                leaf = head.graft(i)\n",
    "                last_head.link = link\n",
    "                last_head = head\n",
    "\n",
    "    def __contains__(self, item):\n",
    "        return isinstance(item, str) and item in self.root\n"
   ]
  },
  {
   "cell_type": "markdown",
   "metadata": {},
   "source": [
    "## correctness test"
   ]
  },
  {
   "cell_type": "code",
   "execution_count": 4,
   "metadata": {
    "pycharm": {
     "is_executing": false,
     "name": "#%%\n"
    }
   },
   "outputs": [],
   "source": [
    "def check_correctness(structure, text):\n",
    "    for i in range(0, len(text)):\n",
    "        for j in range(i, len(text)):\n",
    "            if text[i:] not in structure:\n",
    "                return False\n",
    "    return True"
   ]
  },
  {
   "cell_type": "code",
   "execution_count": 22,
   "metadata": {
    "pycharm": {
     "is_executing": false,
     "name": "#%%\n"
    }
   },
   "outputs": [
    {
     "name": "stdout",
     "output_type": "stream",
     "text": [
      "Trie True\n",
      "McCreight True\n",
      "Slow McCreight True\n",
      "Trie True\n",
      "McCreight True\n",
      "Slow McCreight True\n",
      "Trie True\n",
      "McCreight True\n",
      "Slow McCreight True\n",
      "Trie True\n",
      "McCreight True\n",
      "Slow McCreight True\n"
     ]
    }
   ],
   "source": [
    "text = \"bbb$\"\n",
    "print(f\"Trie {check_correctness(Trie(text), text)}\")\n",
    "print(f\"McCreight {check_correctness(SuffixTree(text), text)}\")\n",
    "print(f\"Slow McCreight {check_correctness(SuffixTree(text, True), text)}\")\n",
    "\n",
    "text = \"abbbabd\"\n",
    "print(f\"Trie {check_correctness(Trie(text), text)}\")\n",
    "print(f\"McCreight {check_correctness(SuffixTree(text), text)}\")\n",
    "print(f\"Slow McCreight {check_correctness(SuffixTree(text, True), text)}\")\n",
    "\n",
    "text = \"ababcd\"\n",
    "print(f\"Trie {check_correctness(Trie(text), text)}\")\n",
    "print(f\"McCreight {check_correctness(SuffixTree(text), text)}\")\n",
    "print(f\"Slow McCreight {check_correctness(SuffixTree(text, True), text)}\")\n",
    "\n",
    "text = \"abcbccd\"\n",
    "print(f\"Trie {check_correctness(Trie(text), text)}\")\n",
    "print(f\"McCreight {check_correctness(SuffixTree(text), text)}\")\n",
    "print(f\"Slow McCreight {check_correctness(SuffixTree(text, True), text)}\")"
   ]
  },
  {
   "cell_type": "markdown",
   "metadata": {
    "pycharm": {
     "name": "#%% md\n"
    }
   },
   "source": [
    "## speed test"
   ]
  },
  {
   "cell_type": "code",
   "execution_count": 6,
   "metadata": {
    "pycharm": {
     "is_executing": false,
     "name": "#%%\n"
    }
   },
   "outputs": [],
   "source": [
    "from time import perf_counter\n",
    "def time_eval(func, args, w_print=False, name=None, count=10):\n",
    "    start = perf_counter()\n",
    "    for i in range(count):\n",
    "        func(*args)\n",
    "    end = perf_counter()\n",
    "    avg = (end-start)/count\n",
    "    if w_print:\n",
    "        print(f\"{name} average time: {avg}\")\n",
    "    else:\n",
    "        return avg"
   ]
  },
  {
   "cell_type": "code",
   "execution_count": 7,
   "metadata": {
    "pycharm": {
     "is_executing": false,
     "name": "#%%\n"
    }
   },
   "outputs": [
    {
     "name": "stdout",
     "output_type": "stream",
     "text": [
      "Trie average time: 0.0001088952599093318\n",
      "McCreight average time: 1.8403939902782442e-05\n",
      "Slow McCreight average time: 2.235481981188059e-05\n"
     ]
    }
   ],
   "source": [
    "text = \"bbb$\"\n",
    "time_eval(Trie, [text], True, \"Trie\",count=50)\n",
    "time_eval(SuffixTree, [text], True, \"McCreight\",count=50)\n",
    "time_eval(SuffixTree, [text, True], True, \"Slow McCreight\",count=50)"
   ]
  },
  {
   "attachments": {
    "Screenshot%20from%202020-04-02%2020-36-42.png": {
     "image/png": "[encoded data removed]"
    }
   },
   "cell_type": "markdown",
   "metadata": {},
   "source": [
    "![Screenshot%20from%202020-04-02%2020-36-42.png](attachment:Screenshot%20from%202020-04-02%2020-36-42.png)"
   ]
  },
  {
   "cell_type": "code",
   "execution_count": 24,
   "metadata": {},
   "outputs": [
    {
     "name": "stdout",
     "output_type": "stream",
     "text": [
      "Trie average time: 0.0001671881601214409\n",
      "McCreight average time: 4.1813199932221326e-05\n",
      "Slow McCreight average time: 5.9389859961811454e-05\n"
     ]
    }
   ],
   "source": [
    "text = \"abbbabd\"\n",
    "time_eval(Trie, [text], True, \"Trie\",count=50)\n",
    "time_eval(SuffixTree, [text], True, \"McCreight\",count=50)\n",
    "time_eval(SuffixTree, [text, True], True, \"Slow McCreight\",count=50)"
   ]
  },
  {
   "attachments": {
    "Screenshot%20from%202020-04-02%2020-38-09.png": {
     "image/png": "[encoded data removed]"
    }
   },
   "cell_type": "markdown",
   "metadata": {},
   "source": [
    "![Screenshot%20from%202020-04-02%2020-38-09.png](attachment:Screenshot%20from%202020-04-02%2020-38-09.png)"
   ]
  },
  {
   "cell_type": "code",
   "execution_count": 25,
   "metadata": {},
   "outputs": [
    {
     "name": "stdout",
     "output_type": "stream",
     "text": [
      "Trie average time: 0.00018004536017542704\n",
      "McCreight average time: 2.4469860072713345e-05\n",
      "Slow McCreight average time: 3.064488002564758e-05\n"
     ]
    }
   ],
   "source": [
    "text = \"ababcd\"\n",
    "time_eval(Trie, [text], True, \"Trie\",count=50)\n",
    "time_eval(SuffixTree, [text], True, \"McCreight\",count=50)\n",
    "time_eval(SuffixTree, [text, True], True, \"Slow McCreight\",count=50)"
   ]
  },
  {
   "attachments": {
    "Screenshot%20from%202020-04-02%2020-38-55.png": {
     "image/png": "[encoded data removed]"
    }
   },
   "cell_type": "markdown",
   "metadata": {},
   "source": [
    "![Screenshot%20from%202020-04-02%2020-38-55.png](attachment:Screenshot%20from%202020-04-02%2020-38-55.png)"
   ]
  },
  {
   "cell_type": "code",
   "execution_count": 18,
   "metadata": {
    "pycharm": {
     "is_executing": false,
     "name": "#%%\n"
    }
   },
   "outputs": [
    {
     "name": "stdout",
     "output_type": "stream",
     "text": [
      "Trie average time: 0.0001747623601113446\n",
      "McCreight average time: 2.3876420164015145e-05\n",
      "Slow McCreight average time: 3.246553998906165e-05\n"
     ]
    }
   ],
   "source": [
    "text = \"abcbccd\"\n",
    "time_eval(Trie, [text], True, \"Trie\",count=50)\n",
    "time_eval(SuffixTree, [text], True, \"McCreight\",count=50)\n",
    "time_eval(SuffixTree, [text, True], True, \"Slow McCreight\",count=50)"
   ]
  },
  {
   "attachments": {
    "Screenshot%20from%202020-04-02%2020-39-27.png": {
     "image/png": "[encoded data removed]"
    }
   },
   "cell_type": "markdown",
   "metadata": {},
   "source": [
    "![Screenshot%20from%202020-04-02%2020-39-27.png](attachment:Screenshot%20from%202020-04-02%2020-39-27.png)"
   ]
  },
  {
   "cell_type": "code",
   "execution_count": 11,
   "metadata": {},
   "outputs": [
    {
     "name": "stdout",
     "output_type": "stream",
     "text": [
      "Trie average time: 7.777111999996123\n",
      "McCreight average time: 0.01380698500724975\n",
      "Slow McCreight average time: 0.023901440988993272\n"
     ]
    }
   ],
   "source": [
    "with open('1997_714.txt', 'r') as file:\n",
    "    text = file.read()\n",
    "    text = text[:2000]\n",
    "    text += '\\0'\n",
    "    time_eval(Trie, [text], True, \"Trie\",count=1)\n",
    "    time_eval(SuffixTree, [text], True, \"McCreight\",count=1)\n",
    "    time_eval(SuffixTree, [text, True], True, \"Slow McCreight\",count=1)"
   ]
  },
  {
   "attachments": {
    "Screenshot%20from%202020-04-02%2020-40-12.png": {
     "image/png": "[encoded data removed]"
    }
   },
   "cell_type": "markdown",
   "metadata": {},
   "source": [
    "![Screenshot%20from%202020-04-02%2020-40-12.png](attachment:Screenshot%20from%202020-04-02%2020-40-12.png)"
   ]
  }
 ],
 "metadata": {
  "kernelspec": {
   "display_name": "Python 3",
   "language": "python",
   "name": "python3"
  },
  "language_info": {
   "codemirror_mode": {
    "name": "ipython",
    "version": 3
   },
   "file_extension": ".py",
   "mimetype": "text/x-python",
   "name": "python",
   "nbconvert_exporter": "python",
   "pygments_lexer": "ipython3",
   "version": "3.7.5"
  },
  "pycharm": {
   "stem_cell": {
    "cell_type": "raw",
    "metadata": {
     "collapsed": false
    },
    "source": []
   }
  }
 },
 "nbformat": 4,
 "nbformat_minor": 4
}
