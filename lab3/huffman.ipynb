{
 "cells": [
  {
   "cell_type": "code",
   "execution_count": null,
   "metadata": {
    "collapsed": true
   },
   "outputs": [],
   "source": [
    "from heapq import heappush, heappop\n",
    "from typing import Dict\n",
    "from bitarray import bitarray"
   ]
  },
  {
   "cell_type": "code",
   "execution_count": null,
   "outputs": [],
   "source": [
    "class Node:\n",
    "    def __init__(self, weight: int, letter: str = None, index: int = -1,  parent: 'Node' = None, left: 'Node' = None, right: 'Node' = None) -> None:\n",
    "        super().__init__()\n",
    "        self.weight = weight\n",
    "        self.letter = letter\n",
    "        self.parent = parent\n",
    "        self.left = left\n",
    "        self.right = right\n",
    "        self.index = index\n",
    "\n",
    "    def create_dict(self, dictionary: Dict, code: bitarray = bitarray()):\n",
    "        if self.letter:\n",
    "            dictionary[self.letter] = code\n",
    "        if self.left:\n",
    "            code_copy = code.copy()\n",
    "            code_copy.append(0)\n",
    "            self.left.create_dict(dictionary, code_copy)\n",
    "        if self.right:\n",
    "            code_copy = code.copy()\n",
    "            code_copy.append(1)\n",
    "            self.right.create_dict(dictionary, code_copy)\n",
    "\n",
    "    def __lt__(self, other):\n",
    "        if not isinstance(other, type(self)):\n",
    "            return NotImplemented\n",
    "        else:\n",
    "            return self.weight < other.weight\n",
    "\n",
    "    def __le__(self, other):\n",
    "        if not isinstance(other, type(self)):\n",
    "            return NotImplemented\n",
    "        else:\n",
    "            return self.weight <= other.weight\n",
    "\n",
    "    def __repr__(self):\n",
    "        return f\"{self.weight} : {self.letter if self.letter is not None else '_'}\"\n",
    "\n",
    "    @staticmethod\n",
    "    def swap(node1: 'Node', node2: 'Node'):\n",
    "        if node1 == node2 or node1.parent == node2 or node2.parent == node1:\n",
    "            return\n",
    "        if node1.parent==node2.parent:\n",
    "            if node1.parent.left == node1:\n",
    "                node1.parent.left = node2\n",
    "                node1.parent.right = node1\n",
    "            else:\n",
    "                node1.parent.left = node1\n",
    "                node1.parent.right = node2\n",
    "            return\n",
    "        node1_parent = node1.parent\n",
    "        node2_parent = node2.parent\n",
    "        if node1 == node1_parent.left:\n",
    "            node1_parent.left = node2\n",
    "        else:\n",
    "            node1_parent.right = node2\n",
    "        if node2 == node2_parent.left:\n",
    "            node2_parent.left = node1\n",
    "        else:\n",
    "            node2_parent.right = node1\n",
    "        node1.parent = node2_parent\n",
    "        node2.parent = node1_parent"
   ],
   "metadata": {
    "collapsed": false,
    "pycharm": {
     "name": "#%%\n"
    }
   }
  },
  {
   "cell_type": "code",
   "execution_count": null,
   "outputs": [],
   "source": [
    "class HuffmanTree:\n",
    "    def __init__(self, letters: Dict[str, int]) -> None:\n",
    "        super().__init__()\n",
    "        h = []\n",
    "        for letter, weight in letters.items():\n",
    "            heappush(h, Node(weight, letter))\n",
    "        while 1 < len(h):\n",
    "            node1 = heappop(h)\n",
    "            node2 = heappop(h)\n",
    "            heappush(h, Node(node1.weight+node2.weight, left=node1, right=node2))\n",
    "        self.root = h[0]\n",
    "        self.dictionary = {}\n",
    "        self.root.create_dict(self.dictionary)"
   ],
   "metadata": {
    "collapsed": false,
    "pycharm": {
     "name": "#%%\n"
    }
   }
  },
  {
   "cell_type": "code",
   "execution_count": null,
   "outputs": [],
   "source": [
    "class AdaptiveHuffmanTree:\n",
    "    def __init__(self) -> None:\n",
    "        super().__init__()\n",
    "        self.root = self.NYT = Node(0, letter='##')\n",
    "        self.dictionary: Dict[str, bytearray] = {}\n",
    "        self.leafs: Dict[str, Node] = {}\n",
    "        self.root.create_dict(self.dictionary)\n",
    "        self.nodes: List[Node] = []\n",
    "\n",
    "    def split_nyt(self, new_node):\n",
    "        new_nyt = Node(0, letter='##')\n",
    "        self.NYT.left = new_nyt\n",
    "        self.NYT.right = new_node\n",
    "        self.NYT.letter = None\n",
    "        new_node.parent = self.NYT\n",
    "        new_nyt.parent = self.NYT\n",
    "        self.NYT = new_nyt\n",
    "\n",
    "    def find_leader(self, node: Node):\n",
    "        index = node.index - 1\n",
    "        while 0 <= index and self.nodes[index].weight < node.weight:\n",
    "            index -= 1\n",
    "        return self.nodes[index + 1]\n",
    "\n",
    "    def update_indexes(self):\n",
    "        self.nodes: List[Node] = []\n",
    "        queue = Queue()\n",
    "        queue.put(self.root)\n",
    "        index = 0\n",
    "        while not queue.empty():\n",
    "            node = queue.get()\n",
    "            self.nodes.append(node)\n",
    "            node.index = index\n",
    "            if node.right is not None:\n",
    "                queue.put(node.right)\n",
    "            if node.left is not None:\n",
    "                queue.put(node.left)\n",
    "            index += 1\n",
    "\n",
    "    def increment(self, node: Node) -> bool:\n",
    "        tree_updated = False\n",
    "        while node is not None:\n",
    "            node.weight += 1\n",
    "            leader = self.find_leader(node)\n",
    "            if not (leader == node or node.parent == leader or leader.parent == node):\n",
    "                Node.swap(node, leader)\n",
    "                self.update_indexes()\n",
    "                tree_updated = True\n",
    "            node = node.parent\n",
    "        return tree_updated\n",
    "\n",
    "    def update_tree(self, letter: str) -> bool:\n",
    "        if letter not in self.leafs.keys():\n",
    "            new_node = Node(1, letter)\n",
    "            self.leafs[letter] = new_node\n",
    "            self.split_nyt(new_node)\n",
    "            new_parent = new_node.parent\n",
    "            new_parent.index = len(self.nodes)\n",
    "            self.nodes.append(new_parent)\n",
    "            new_node.index = len(self.nodes)\n",
    "            self.nodes.append(new_node)\n",
    "            self.increment(new_parent)\n",
    "            tree_updated = True\n",
    "        else:\n",
    "            tree_updated = self.increment(self.leafs[letter])\n",
    "        if tree_updated:\n",
    "            self.root.create_dict(self.dictionary)\n",
    "        return tree_updated"
   ],
   "metadata": {
    "collapsed": false,
    "pycharm": {
     "name": "#%%\n"
    }
   }
  },
  {
   "cell_type": "code",
   "execution_count": null,
   "outputs": [],
   "source": [
    "def encoding_table(tree) -> bitarray:\n",
    "    table = bitarray()\n",
    "    for key, value in tree.dictionary.items():\n",
    "        length = bitarray()\n",
    "        length.frombytes(len(value).to_bytes(1, byteorder='big', signed=False))\n",
    "        letter = bitarray()\n",
    "        letter.fromstring(key)\n",
    "        table += letter + length + value\n",
    "    table_length = bitarray()\n",
    "    table_length.frombytes(len(table).to_bytes(1, byteorder='big', signed=False))\n",
    "    return table_length + table"
   ],
   "metadata": {
    "collapsed": false,
    "pycharm": {
     "name": "#%%\n"
    }
   }
  },
  {
   "cell_type": "code",
   "execution_count": null,
   "outputs": [],
   "source": [
    "def bitarray_to_int(bits: bitarray) -> int:\n",
    "    number = 0\n",
    "    for bit in bits:\n",
    "        number = (number << 1) | bit\n",
    "    return number\n",
    "\n",
    "\n",
    "def decoding_table(bits: bitarray) -> (bitarray, Dict[int, str]):\n",
    "    table_length = int.from_bytes(bits[:8], byteorder='big', signed=True)\n",
    "    bits = bits[8:]\n",
    "    i = 0\n",
    "    table = {}\n",
    "    while i < table_length:\n",
    "        letter = bits[:8].tobytes().decode()\n",
    "        i += 8\n",
    "        bits = bits[8:]\n",
    "        length = bitarray_to_int(bits[:8])\n",
    "        i += 8\n",
    "        bits = bits[8:]\n",
    "        code = bits[:length]\n",
    "        i += length\n",
    "        bits = bits[length:]\n",
    "        table[bitarray_to_int(code)] = letter\n",
    "    return bits, table\n"
   ],
   "metadata": {
    "collapsed": false,
    "pycharm": {
     "name": "#%%\n"
    }
   }
  },
  {
   "cell_type": "markdown",
   "source": [
    "format\n",
    "encoding table length - {1 byte}\n",
    "encoding table - {1 byte} letter - {1byte} code - length - code\n",
    "encoded text"
   ],
   "metadata": {
    "collapsed": false,
    "pycharm": {
     "name": "#%% md\n"
    }
   }
  },
  {
   "cell_type": "code",
   "execution_count": null,
   "outputs": [],
   "source": [
    "def encode_static(text: str) -> bitarray:\n",
    "    letters = {}\n",
    "    for letter in text:\n",
    "        if letter not in letters.keys():\n",
    "            letters[letter] = 0\n",
    "        letters[letter] += 1\n",
    "    tree = HuffmanTree(letters)\n",
    "    bits = encoding_table(tree)\n",
    "    for letter in text:\n",
    "        bits += tree.dictionary[letter]\n",
    "    return bits\n",
    "\n",
    "\n",
    "def decode_static(bits: bitarray) -> str:\n",
    "    bits, table = decoding_table(bits)\n",
    "    i = 1\n",
    "    text = \"\"\n",
    "    while bits:\n",
    "        key = bitarray_to_int(bits[:i])\n",
    "        if key in table.keys():\n",
    "            text += table[key]\n",
    "            bits=bits[i:]\n",
    "            i = 0\n",
    "        i += 1\n",
    "    return text"
   ],
   "metadata": {
    "collapsed": false,
    "pycharm": {
     "name": "#%%\n"
    }
   }
  }
 ],
 "metadata": {
  "kernelspec": {
   "display_name": "${KERNEL_SPEC_DISPLAY_NAME}",
   "language": "${KERNEL_SPEC_LANGUAGE}",
   "name": "${KERNEL_SPEC_NAME}"
  },
  "language_info": {
   "codemirror_mode": {
    "name": "ipython",
    "version": 2
   },
   "file_extension": ".py",
   "mimetype": "text/x-python",
   "name": "python",
   "nbconvert_exporter": "python",
   "pygments_lexer": "ipython2",
   "version": "2.7.6"
  }
 },
 "nbformat": 4,
 "nbformat_minor": 0
}