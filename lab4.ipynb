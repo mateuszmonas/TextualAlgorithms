{
 "cells": [
  {
   "cell_type": "code",
   "execution_count": null,
   "metadata": {
    "collapsed": true
   },
   "outputs": [],
   "source": [
    "from enum import Enum\n",
    "from queue import LifoQueue\n",
    "from typing import TypeVar, Callable, Sequence\n",
    "from bisect import bisect\n",
    "\n",
    "X = TypeVar('X')"
   ]
  },
  {
   "cell_type": "markdown",
   "source": [
    "# edit distance"
   ],
   "metadata": {
    "collapsed": false,
    "pycharm": {
     "name": "#%% md\n"
    }
   }
  },
  {
   "cell_type": "code",
   "execution_count": null,
   "outputs": [],
   "source": [
    "class Operation(Enum):\n",
    "    DELETE = 0\n",
    "    CHANGE = 1\n",
    "    INSERT = 2\n",
    "    NO_CHANGE = 3\n",
    "\n",
    "\n",
    "class EditTableCell:\n",
    "\n",
    "    def __init__(self, weight: int, parent: 'EditTableCell' = None) -> None:\n",
    "        super().__init__()\n",
    "        self.weight = weight\n",
    "        self.parent = parent\n",
    "        self.comparator_weight = weight\n",
    "        self.operation: Operation = Operation.NO_CHANGE\n",
    "\n",
    "    def edit_sequence(self, queue = None):\n",
    "        if queue is None:\n",
    "            queue = LifoQueue()\n",
    "        queue.put(self.operation)\n",
    "        if self.parent is not None:\n",
    "            return self.parent.edit_sequence(queue)\n",
    "        return queue\n",
    "\n",
    "def edit_distance(x: Sequence[X], y: Sequence[X], delta: Callable[[X, X], int] = lambda a, b: 0 if a == b else 1):\n",
    "    edit_table = [[EditTableCell(0) for _ in range(len(y) + 1)] for _ in range(len(x) + 1)]\n",
    "    for i in range(1, len(x) + 1):\n",
    "        edit_table[i][0].parent = edit_table[i - 1][0]\n",
    "        edit_table[i][0].weight = i\n",
    "        edit_table[i][0].operation = Operation.DELETE\n",
    "    for i in range(1, len(y) + 1):\n",
    "        edit_table[0][i].parent = edit_table[0][i - 1]\n",
    "        edit_table[0][i].weight = i\n",
    "        edit_table[0][i].operation = Operation.INSERT\n",
    "    for i in range(len(x)):\n",
    "        k = i + 1\n",
    "        for j in range(len(y)):\n",
    "            l = j + 1\n",
    "            edit_table[k - 1][l].comparator_weight = edit_table[k - 1][l].weight + 1\n",
    "            edit_table[k][l - 1].comparator_weight = edit_table[k][l - 1].weight + 1\n",
    "            edit_table[k - 1][l - 1].comparator_weight = edit_table[k - 1][l - 1].weight + delta(x[i], y[j])\n",
    "            parent = min([edit_table[k - 1][l],\n",
    "                          edit_table[k][l - 1],\n",
    "                          edit_table[k - 1][l - 1]], key=lambda a: a.comparator_weight)\n",
    "            if edit_table[k - 1][l] == parent:\n",
    "                edit_table[k][l].operation = Operation.DELETE\n",
    "            elif edit_table[k][l - 1] == parent:\n",
    "                edit_table[k][l].operation = Operation.INSERT\n",
    "            elif edit_table[k - 1][l - 1] == parent:\n",
    "                if delta(x[i], y[j]) == 0:\n",
    "                    edit_table[k][l].operation = Operation.NO_CHANGE\n",
    "                else:\n",
    "                    edit_table[k][l].operation = Operation.CHANGE\n",
    "            edit_table[k][l].weight = parent.comparator_weight\n",
    "            edit_table[k][l].parent = parent\n",
    "    q = edit_table[len(x)][len(y)].edit_sequence()\n",
    "    result = x\n",
    "    print(result)\n",
    "    x_i = 0\n",
    "    y_i = 0\n",
    "    q.get()\n",
    "    while not q.empty():\n",
    "        operation = q.get()\n",
    "        if operation == Operation.INSERT:\n",
    "            result = result[:x_i] + y[y_i] + result[x_i:]\n",
    "            y_i += 1\n",
    "            x_i += 1\n",
    "            print(result)\n",
    "        elif operation == Operation.DELETE:\n",
    "            result = result[:x_i] + result[x_i + 1:]\n",
    "            print(result)\n",
    "        elif operation == operation.CHANGE:\n",
    "            result = result[:x_i] + y[y_i] + result[x_i + 1:]\n",
    "            y_i += 1\n",
    "            x_i += 1\n",
    "            print(result)\n",
    "        elif operation == operation.NO_CHANGE:\n",
    "            y_i += 1\n",
    "            x_i += 1\n",
    "    return edit_table[len(x)][len(y)].weight"
   ],
   "metadata": {
    "collapsed": false,
    "pycharm": {
     "name": "#%%\n"
    }
   }
  },
  {
   "cell_type": "code",
   "execution_count": null,
   "outputs": [],
   "source": [
    "edit_distance('los', 'kloc')"
   ],
   "metadata": {
    "collapsed": false,
    "pycharm": {
     "name": "#%%\n"
    }
   }
  },
  {
   "cell_type": "code",
   "execution_count": null,
   "outputs": [],
   "source": [
    "edit_distance('Łódź', 'Lodz')"
   ],
   "metadata": {
    "collapsed": false,
    "pycharm": {
     "name": "#%%\n"
    }
   }
  },
  {
   "cell_type": "code",
   "execution_count": null,
   "outputs": [],
   "source": [
    "edit_distance('kwintesencja', 'quintessence')"
   ],
   "metadata": {
    "collapsed": false,
    "pycharm": {
     "name": "#%%\n"
    }
   }
  },
  {
   "cell_type": "code",
   "execution_count": null,
   "outputs": [],
   "source": [
    "edit_distance('ATGAATCTTACCGCCTCG', 'ATGAGGCTCTGGCCCCTG')"
   ],
   "metadata": {
    "collapsed": false,
    "pycharm": {
     "name": "#%%\n"
    }
   }
  },
  {
   "cell_type": "markdown",
   "source": [
    "# longest common subsequence"
   ],
   "metadata": {
    "collapsed": false,
    "pycharm": {
     "name": "#%% md\n"
    }
   }
  },
  {
   "cell_type": "code",
   "execution_count": null,
   "outputs": [],
   "source": [
    "def lcs(x: Sequence[X], y: Sequence[X]):\n",
    "    ranges = [len(y)]\n",
    "    y_letters = list(y)\n",
    "    for i in range(len(x)):\n",
    "        positions = [j for j, l in enumerate(y_letters) if l == x[i]]\n",
    "        positions.reverse()\n",
    "        for p in positions:\n",
    "            k = bisect(ranges, p)\n",
    "            if k == bisect(ranges, p - 1):\n",
    "                if k < len(ranges) - 1:\n",
    "                    ranges[k] = p\n",
    "                else:\n",
    "                    ranges[k:k] = [p]\n",
    "    longest = \"\"\n",
    "    i = 1\n",
    "    for l in x:\n",
    "        if l in y[ranges[i - 1]:ranges[i]]:\n",
    "            longest += l\n",
    "            i += 1\n",
    "    return longest\n",
    "\n",
    "\n",
    "def diff(a: Sequence[X], b: Sequence[X]):\n",
    "    subsequence = lcs(a, b)\n",
    "    letters = []\n",
    "    actions = []\n",
    "    i = j = 0\n",
    "    for l in subsequence:\n",
    "        while a[i] != l:\n",
    "            letters.append(a[i])\n",
    "            actions.append('-')\n",
    "            i += 1\n",
    "        while b[j] != l:\n",
    "            letters.append(b[j])\n",
    "            actions.append('+')\n",
    "            j += 1\n",
    "        letters.append(l)\n",
    "        actions.append(' ')\n",
    "        i += 1\n",
    "        j += 1\n",
    "    while i < len(a):\n",
    "        letters.append(a[i])\n",
    "        actions.append('-')\n",
    "        i += 1\n",
    "    while j < len(b):\n",
    "        letters.append(b[j])\n",
    "        actions.append('+')\n",
    "        j += 1\n",
    "    result = ''.join(letters) + '\\n' + ''.join(actions) + '\\n'\n",
    "    return result"
   ],
   "metadata": {
    "collapsed": false,
    "pycharm": {
     "name": "#%%\n"
    }
   }
  },
  {
   "cell_type": "code",
   "execution_count": null,
   "outputs": [],
   "source": [],
   "metadata": {
    "collapsed": false,
    "pycharm": {
     "name": "#%%"
    }
   }
  }
 ],
 "metadata": {
  "kernelspec": {
   "display_name": "Python 3",
   "language": "python",
   "name": "python3"
  },
  "language_info": {
   "codemirror_mode": {
    "name": "ipython",
    "version": 2
   },
   "file_extension": ".py",
   "mimetype": "text/x-python",
   "name": "python",
   "nbconvert_exporter": "python",
   "pygments_lexer": "ipython2",
   "version": "2.7.6"
  }
 },
 "nbformat": 4,
 "nbformat_minor": 0
}