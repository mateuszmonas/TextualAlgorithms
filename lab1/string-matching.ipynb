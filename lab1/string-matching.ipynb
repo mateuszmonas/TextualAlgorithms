{
 "cells": [
  {
   "cell_type": "code",
   "execution_count": 84,
   "metadata": {
    "collapsed": true,
    "pycharm": {
     "is_executing": false
    }
   },
   "outputs": [],
   "source": [
    "import re\n",
    "import string\n",
    "import time\n",
    "from timeit import timeit"
   ]
  },
  {
   "cell_type": "markdown",
   "source": [
    "# pattern matching\n",
    "\n",
    "## algorithms\n",
    "\n",
    "### naive\n"
   ],
   "metadata": {
    "collapsed": false
   }
  },
  {
   "cell_type": "code",
   "execution_count": 85,
   "outputs": [],
   "source": [
    "def naive_patter_matching(text:string, pattern: string):\n",
    "    result = []\n",
    "    for s in range(len(text)-len(pattern)+1):    \n",
    "        if pattern==text[s:s+len(pattern)]:\n",
    "            result.append(s)\n",
    "    return result"
   ],
   "metadata": {
    "collapsed": false,
    "pycharm": {
     "name": "#%%\n",
     "is_executing": false
    }
   }
  },
  {
   "cell_type": "markdown",
   "source": [
    " \n",
    "### finite automaton"
   ],
   "metadata": {
    "collapsed": false
   }
  },
  {
   "cell_type": "code",
   "execution_count": 86,
   "outputs": [],
   "source": [
    "def transition_table(pattern:string):\n",
    "    result = []\n",
    "    alphabet = set()\n",
    "    for a in pattern:\n",
    "        alphabet.add(a)\n",
    "    for q in range(0, len(pattern) + 1):\n",
    "        result.append({})\n",
    "        for a in alphabet:\n",
    "            k = min(len(pattern) + 1, q + 2)\n",
    "            while True:\n",
    "                k = k - 1\n",
    "                if re.search(f\"{pattern[:k]}$\", pattern[:q] + a):\n",
    "                    break\n",
    "            result[q][a] = k    \n",
    "    return result\n",
    "\n",
    "def finite_automaton_pattern_matching(text:string, pattern:string): \n",
    "    q = 0\n",
    "    delta = transition_table(pattern)\n",
    "    result = []\n",
    "    for s in range(0, len(text)):\n",
    "        if text[s] in delta[q]:\n",
    "            q = delta[q][text[s]]\n",
    "            if q == len(delta) - 1:\n",
    "                result.append(s + 1 - q)\n",
    "        else:\n",
    "            q=0\n",
    "    return result"
   ],
   "metadata": {
    "collapsed": false,
    "pycharm": {
     "name": "#%%\n",
     "is_executing": false
    }
   }
  },
  {
   "cell_type": "markdown",
   "source": [
    "### Knutha-Morrisa-Pratta"
   ],
   "metadata": {
    "collapsed": false
   }
  },
  {
   "cell_type": "code",
   "execution_count": 87,
   "outputs": [],
   "source": [
    "def prefix_function(pattern):\n",
    "    pi = [0]\n",
    "    k = 0\n",
    "    for q in range(1, len(pattern)):\n",
    "        while k > 0 and pattern[k] != pattern[q]:\n",
    "            k = pi[k-1]\n",
    "        if pattern[k] == pattern[q]:\n",
    "            k = k + 1\n",
    "        pi.append(k)\n",
    "    return pi\n",
    "\n",
    "def kmp_string_matching_pattern_matching(text, pattern):\n",
    "    pi = prefix_function(pattern)\n",
    "    q = 0\n",
    "    result = []\n",
    "    for i in range(0, len(text)):\n",
    "        while q > 0 and pattern[q] != text[i]:\n",
    "            q = pi[q-1]\n",
    "        if pattern[q] == text[i]:\n",
    "            q = q + 1\n",
    "        if q == len(pattern):\n",
    "            result.append(i + 1 - q)\n",
    "            q = pi[q-1]\n",
    "    return result"
   ],
   "metadata": {
    "collapsed": false,
    "pycharm": {
     "name": "#%%\n",
     "is_executing": false
    }
   }
  },
  {
   "cell_type": "markdown",
   "source": [
    "## execution time tests"
   ],
   "metadata": {
    "collapsed": false
   }
  },
  {
   "cell_type": "code",
   "execution_count": 88,
   "outputs": [
    {
     "name": "stdout",
     "text": [
      "naive time elapsed: 0.06313681602478027\n",
      "finite automaton time elapsed: 0.027685880661010742\n",
      "Knutha-Morrisa-Pratta time elapsed: 0.034362077713012695\n"
     ],
     "output_type": "stream"
    }
   ],
   "source": [
    "with open('1997_714.txt', 'r') as file:\n",
    "    data = file.read()\n",
    "    start = time.time()\n",
    "    a = naive_patter_matching(data, \"Art\")\n",
    "    end = time.time()\n",
    "    print(f\"naive time elapsed: {end-start}\")\n",
    "    start = time.time()\n",
    "    b = finite_automaton_pattern_matching(data, \"Art\")\n",
    "    end = time.time()\n",
    "    print(f\"finite automaton time elapsed: {end-start}\")\n",
    "    start = time.time()\n",
    "    c = kmp_string_matching_pattern_matching(data, \"Art\")\n",
    "    end = time.time()\n",
    "    print(f\"Knutha-Morrisa-Pratta time elapsed: {end-start}\")\n",
    "          "
   ],
   "metadata": {
    "collapsed": false,
    "pycharm": {
     "name": "#%%\n",
     "is_executing": false
    }
   }
  },
  {
   "cell_type": "code",
   "execution_count": 88,
   "outputs": [],
   "source": [],
   "metadata": {
    "collapsed": false,
    "pycharm": {
     "name": "#%%\n",
     "is_executing": false
    }
   }
  }
 ],
 "metadata": {
  "kernelspec": {
   "display_name": "Python 3",
   "language": "python",
   "name": "python3"
  },
  "language_info": {
   "codemirror_mode": {
    "name": "ipython",
    "version": 2
   },
   "file_extension": ".py",
   "mimetype": "text/x-python",
   "name": "python",
   "nbconvert_exporter": "python",
   "pygments_lexer": "ipython2",
   "version": "2.7.6"
  },
  "pycharm": {
   "stem_cell": {
    "cell_type": "raw",
    "source": [],
    "metadata": {
     "collapsed": false
    }
   }
  }
 },
 "nbformat": 4,
 "nbformat_minor": 0
}