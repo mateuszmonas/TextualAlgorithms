{
 "cells": [
  {
   "cell_type": "code",
   "execution_count": 15,
   "metadata": {
    "pycharm": {
     "is_executing": false
    }
   },
   "outputs": [],
   "source": [
    "import re\n",
    "import string\n",
    "import time\n",
    "from timeit import timeit"
   ]
  },
  {
   "cell_type": "markdown",
   "metadata": {},
   "source": [
    "# pattern matching\n",
    "\n",
    "## algorithms\n",
    "\n",
    "### naive\n"
   ]
  },
  {
   "cell_type": "code",
   "execution_count": 9,
   "metadata": {
    "pycharm": {
     "is_executing": false,
     "name": "#%%\n"
    }
   },
   "outputs": [],
   "source": [
    "def naive_patter_matching(text:string, pattern: string):\n",
    "    result = []\n",
    "    for s in range(len(text)-len(pattern)+1):    \n",
    "        if pattern==text[s:s+len(pattern)]:\n",
    "            result.append(s)\n",
    "    return result"
   ]
  },
  {
   "cell_type": "markdown",
   "metadata": {},
   "source": [
    " \n",
    "### finite automaton"
   ]
  },
  {
   "cell_type": "code",
   "execution_count": 10,
   "metadata": {
    "pycharm": {
     "is_executing": false,
     "name": "#%%\n"
    }
   },
   "outputs": [],
   "source": [
    "def transition_table(pattern:string):\n",
    "    result = []\n",
    "    alphabet = set()\n",
    "    for a in pattern:\n",
    "        alphabet.add(a)\n",
    "    for q in range(len(pattern) + 1):\n",
    "        result.append({})\n",
    "        for a in alphabet:\n",
    "            k = min(len(pattern), q + 1)\n",
    "            suffix = pattern[:q] + a\n",
    "            while pattern[:k]!=\"\" and pattern[:k] != suffix[q - k + 1:]:\n",
    "                k -= 1\n",
    "            result[q][a] = k\n",
    "    return result\n",
    "\n",
    "def finite_automaton_pattern_matching(text:string, pattern:string): \n",
    "    q = 0\n",
    "    delta = transition_table(pattern)\n",
    "    result = []\n",
    "    for s in range(0, len(text)):\n",
    "        if text[s] in delta[q]:\n",
    "            q = delta[q][text[s]]\n",
    "            if q == len(delta) - 1:\n",
    "                result.append(s + 1 - q)\n",
    "        else:\n",
    "            q=0\n",
    "    return result"
   ]
  },
  {
   "cell_type": "markdown",
   "metadata": {},
   "source": [
    "### Knutha-Morrisa-Pratta"
   ]
  },
  {
   "cell_type": "code",
   "execution_count": 11,
   "metadata": {
    "pycharm": {
     "is_executing": false,
     "name": "#%%\n"
    }
   },
   "outputs": [],
   "source": [
    "def prefix_function(pattern:string):\n",
    "    pi = [0]\n",
    "    k = 0\n",
    "    for q in range(1, len(pattern)):\n",
    "        while k > 0 and pattern[k] != pattern[q]:\n",
    "            k = pi[k-1]\n",
    "        if pattern[k] == pattern[q]:\n",
    "            k = k + 1\n",
    "        pi.append(k)\n",
    "    return pi\n",
    "\n",
    "def kmp_string_matching_pattern_matching(text, pattern):\n",
    "    pi = prefix_function(pattern)\n",
    "    q = 0\n",
    "    result = []\n",
    "    for i in range(0, len(text)):\n",
    "        while q > 0 and pattern[q] != text[i]:\n",
    "            q = pi[q-1]\n",
    "        if pattern[q] == text[i]:\n",
    "            q = q + 1\n",
    "        if q == len(pattern):\n",
    "            result.append(i + 1 - q)\n",
    "            q = pi[q-1]\n",
    "    return result"
   ]
  },
  {
   "cell_type": "markdown",
   "metadata": {},
   "source": [
    "## execution time tests"
   ]
  },
  {
   "cell_type": "code",
   "execution_count": 16,
   "metadata": {
    "pycharm": {
     "is_executing": false,
     "name": "#%%\n"
    }
   },
   "outputs": [
    {
     "name": "stdout",
     "text": [
      "naive time elapsed: 0.06256961822509766\n",
      "finite automaton time elapsed: 0.024529457092285156\n",
      "Knutha-Morrisa-Pratta time elapsed: 0.056993722915649414\n"
     ],
     "output_type": "stream"
    }
   ],
   "source": [
    "with open('1997_714.txt', 'r') as file:\n",
    "    data = file.read()\n",
    "    start = time.time()\n",
    "    naive_patter_matching(data, \"Art\")\n",
    "    end = time.time()\n",
    "    print(f\"naive time elapsed: {end-start}\")\n",
    "    start = time.time()\n",
    "    finite_automaton_pattern_matching(data, \"Art\")\n",
    "    end = time.time()\n",
    "    print(f\"finite automaton time elapsed: {end-start}\")\n",
    "    start = time.time()\n",
    "    kmp_string_matching_pattern_matching(data, \"Art\")\n",
    "    end = time.time()\n",
    "    print(f\"Knutha-Morrisa-Pratta time elapsed: {end-start}\")\n",
    "          "
   ]
  },
  {
   "cell_type": "markdown",
   "metadata": {
    "pycharm": {
     "is_executing": false,
     "name": "#%% md\n"
    }
   },
   "source": [
    "## naive worst case"
   ]
  },
  {
   "cell_type": "code",
   "execution_count": 13,
   "metadata": {
    "pycharm": {
     "is_executing": false,
     "name": "#%%\n"
    }
   },
   "outputs": [
    {
     "name": "stdout",
     "text": [
      "naive time elapsed: 0.1318671703338623\n",
      "finite automaton time elapsed: 0.10273361206054688\n",
      "Knutha-Morrisa-Pratta time elapsed: 0.15340209007263184\n"
     ],
     "output_type": "stream"
    }
   ],
   "source": [
    "pattern = \"aaaaaaaaaaaaaaaaaaaaaaaaa\"*100\n",
    "text = \"aaaaaaaaaaaaaaaaaaaaaaaaaaab\"*10000\n",
    "start = time.time()\n",
    "naive_patter_matching(text, pattern)\n",
    "end = time.time()\n",
    "print(f\"naive time elapsed: {end-start}\")\n",
    "start = time.time()\n",
    "finite_automaton_pattern_matching(text, pattern)\n",
    "end = time.time()\n",
    "print(f\"finite automaton time elapsed: {end-start}\")\n",
    "start = time.time()\n",
    "kmp_string_matching_pattern_matching(text, pattern)\n",
    "end = time.time()\n",
    "print(f\"Knutha-Morrisa-Pratta time elapsed: {end-start}\")\n",
    "          "
   ]
  },
  {
   "cell_type": "markdown",
   "metadata": {
    "pycharm": {
     "name": "#%% md\n"
    }
   },
   "source": [
    "## finite automaton worse than KMP"
   ]
  },
  {
   "cell_type": "code",
   "execution_count": 14,
   "metadata": {
    "pycharm": {
     "is_executing": false,
     "name": "#%%\n"
    }
   },
   "outputs": [
    {
     "name": "stdout",
     "text": [
      "transition_table time elapsed: 0.3014845848083496\n",
      "prefix_function time elapsed: 0.00018310546875\n"
     ],
     "output_type": "stream"
    }
   ],
   "source": [
    "pattern = \"qwertyuiopasdfghjklzxcvbnm\"*10\n",
    "start = time.time()\n",
    "transition_table(pattern)\n",
    "end = time.time()\n",
    "print(f\"transition_table time elapsed: {end-start}\")\n",
    "\n",
    "start = time.time()\n",
    "prefix_function(pattern)\n",
    "end = time.time()\n",
    "print(f\"prefix_function time elapsed: {end-start}\")"
   ]
  },
  {
   "cell_type": "code",
   "execution_count": 14,
   "metadata": {
    "pycharm": {
     "is_executing": false
    }
   },
   "outputs": [],
   "source": []
  }
 ],
 "metadata": {
  "kernelspec": {
   "display_name": "Python 3",
   "language": "python",
   "name": "python3"
  },
  "language_info": {
   "codemirror_mode": {
    "name": "ipython",
    "version": 3
   },
   "file_extension": ".py",
   "mimetype": "text/x-python",
   "name": "python",
   "nbconvert_exporter": "python",
   "pygments_lexer": "ipython3",
   "version": "3.7.5"
  },
  "pycharm": {
   "stem_cell": {
    "cell_type": "raw",
    "source": [],
    "metadata": {
     "collapsed": false
    }
   }
  }
 },
 "nbformat": 4,
 "nbformat_minor": 1
}