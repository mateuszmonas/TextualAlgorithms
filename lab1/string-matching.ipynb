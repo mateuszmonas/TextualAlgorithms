{
 "cells": [
  {
   "cell_type": "code",
   "execution_count": 10,
   "metadata": {
    "collapsed": true,
    "pycharm": {
     "is_executing": false
    }
   },
   "outputs": [],
   "source": [
    "import re\n",
    "import string\n",
    "import time\n",
    "from timeit import timeit"
   ]
  },
  {
   "cell_type": "markdown",
   "source": [
    "# pattern matching\n",
    "\n",
    "## algorithms\n",
    "\n",
    "### naive\n"
   ],
   "metadata": {
    "collapsed": false
   }
  },
  {
   "cell_type": "code",
   "execution_count": 11,
   "outputs": [],
   "source": [
    "def naive_patter_matching(text:string, pattern: string):\n",
    "    result = []\n",
    "    for s in range(len(text)-len(pattern)+1):    \n",
    "        if pattern==text[s:s+len(pattern)]:\n",
    "            result.append(s)\n",
    "    return result"
   ],
   "metadata": {
    "collapsed": false,
    "pycharm": {
     "name": "#%%\n",
     "is_executing": false
    }
   }
  },
  {
   "cell_type": "markdown",
   "source": [
    " \n",
    "### finite automaton"
   ],
   "metadata": {
    "collapsed": false
   }
  },
  {
   "cell_type": "code",
   "execution_count": 12,
   "outputs": [],
   "source": [
    "def transition_table(pattern:string):\n",
    "    result = []\n",
    "    alphabet = set()\n",
    "    for a in pattern:\n",
    "        alphabet.add(a)\n",
    "    for q in range(0, len(pattern) + 1):\n",
    "        result.append({})\n",
    "        for a in alphabet:\n",
    "            k = min(len(pattern) + 1, q + 2)\n",
    "            found = False\n",
    "            while not found:\n",
    "                k = k - 1\n",
    "                suffix = pattern[:q] + a\n",
    "                prefix = pattern[:k]\n",
    "                if prefix == '':\n",
    "                    found = True\n",
    "                for i in range(q+1):\n",
    "                    if suffix[i:] == prefix:\n",
    "                        found = True\n",
    "                        break\n",
    "            result[q][a] = k\n",
    "    return result\n",
    "\n",
    "def finite_automaton_pattern_matching(text:string, pattern:string): \n",
    "    q = 0\n",
    "    delta = transition_table(pattern)\n",
    "    result = []\n",
    "    for s in range(0, len(text)):\n",
    "        if text[s] in delta[q]:\n",
    "            q = delta[q][text[s]]\n",
    "            if q == len(delta) - 1:\n",
    "                result.append(s + 1 - q)\n",
    "        else:\n",
    "            q=0\n",
    "    return result"
   ],
   "metadata": {
    "collapsed": false,
    "pycharm": {
     "name": "#%%\n",
     "is_executing": false
    }
   }
  },
  {
   "cell_type": "markdown",
   "source": [
    "### Knutha-Morrisa-Pratta"
   ],
   "metadata": {
    "collapsed": false
   }
  },
  {
   "cell_type": "code",
   "execution_count": 13,
   "outputs": [],
   "source": [
    "def prefix_function(pattern:string):\n",
    "    pi = [0]\n",
    "    k = 0\n",
    "    for q in range(1, len(pattern)):\n",
    "        while k > 0 and pattern[k] != pattern[q]:\n",
    "            k = pi[k-1]\n",
    "        if pattern[k] == pattern[q]:\n",
    "            k = k + 1\n",
    "        pi.append(k)\n",
    "    return pi\n",
    "\n",
    "def kmp_string_matching_pattern_matching(text, pattern):\n",
    "    pi = prefix_function(pattern)\n",
    "    q = 0\n",
    "    result = []\n",
    "    for i in range(0, len(text)):\n",
    "        while q > 0 and pattern[q] != text[i]:\n",
    "            q = pi[q-1]\n",
    "        if pattern[q] == text[i]:\n",
    "            q = q + 1\n",
    "        if q == len(pattern):\n",
    "            result.append(i + 1 - q)\n",
    "            q = pi[q-1]\n",
    "    return result"
   ],
   "metadata": {
    "collapsed": false,
    "pycharm": {
     "name": "#%%\n",
     "is_executing": false
    }
   }
  },
  {
   "cell_type": "markdown",
   "source": [
    "## execution time tests"
   ],
   "metadata": {
    "collapsed": false
   }
  },
  {
   "cell_type": "code",
   "execution_count": 23,
   "outputs": [
    {
     "name": "stdout",
     "text": [
      "naive time elapsed: 0.12645864486694336\n",
      "finite automaton time elapsed: 0.0299224853515625\n",
      "Knutha-Morrisa-Pratta time elapsed: 0.06503605842590332\n"
     ],
     "output_type": "stream"
    }
   ],
   "source": [
    "with open('1997_714.txt', 'r') as file:\n",
    "    data = file.read()\n",
    "    start = time.time()\n",
    "    naive_patter_matching(data, \"Art\")\n",
    "    end = time.time()\n",
    "    print(f\"naive time elapsed: {end-start}\")\n",
    "    start = time.time()\n",
    "    finite_automaton_pattern_matching(data, \"Art\")\n",
    "    end = time.time()\n",
    "    print(f\"finite automaton time elapsed: {end-start}\")\n",
    "    start = time.time()\n",
    "    kmp_string_matching_pattern_matching(data, \"Art\")\n",
    "    end = time.time()\n",
    "    print(f\"Knutha-Morrisa-Pratta time elapsed: {end-start}\")\n",
    "          "
   ],
   "metadata": {
    "collapsed": false,
    "pycharm": {
     "name": "#%%\n",
     "is_executing": false
    }
   }
  },
  {
   "cell_type": "markdown",
   "source": [
    "## naive worst case"
   ],
   "metadata": {
    "collapsed": false,
    "pycharm": {
     "name": "#%% md\n",
     "is_executing": false
    }
   }
  },
  {
   "cell_type": "code",
   "execution_count": 30,
   "outputs": [
    {
     "name": "stdout",
     "text": [
      "naive time elapsed: 0.0001239776611328125\n",
      "finite automaton time elapsed: 0.0036072731018066406\n",
      "Knutha-Morrisa-Pratta time elapsed: 0.00015306472778320312\n"
     ],
     "output_type": "stream"
    }
   ],
   "source": [
    "pattern = \"aaaaaaaaaaaaaaaaaaaaaaaaaaaaaaab\"\n",
    "text = \"aaaaaaaaaa\"\n",
    "start = time.time()\n",
    "naive_patter_matching(text, pattern)\n",
    "end = time.time()\n",
    "print(f\"naive time elapsed: {end-start}\")\n",
    "start = time.time()\n",
    "finite_automaton_pattern_matching(text, pattern)\n",
    "end = time.time()\n",
    "print(f\"finite automaton time elapsed: {end-start}\")\n",
    "start = time.time()\n",
    "kmp_string_matching_pattern_matching(text, pattern)\n",
    "end = time.time()\n",
    "print(f\"Knutha-Morrisa-Pratta time elapsed: {end-start}\")\n",
    "          "
   ],
   "metadata": {
    "collapsed": false,
    "pycharm": {
     "name": "#%%\n",
     "is_executing": false
    }
   }
  },
  {
   "cell_type": "markdown",
   "source": [
    "## finite automaton worse than KMP"
   ],
   "metadata": {
    "collapsed": false,
    "pycharm": {
     "name": "#%% md\n"
    }
   }
  },
  {
   "cell_type": "code",
   "execution_count": 31,
   "outputs": [
    {
     "name": "stdout",
     "text": [
      "transition_table time elapsed: 0.03694772720336914\n",
      "prefix_function time elapsed: 0.00012183189392089844\n"
     ],
     "output_type": "stream"
    }
   ],
   "source": [
    "pattern = \"qwertyuiopasdfghjklzxcvbnm\"\n",
    "start = time.time()\n",
    "transition_table(pattern)\n",
    "end = time.time()\n",
    "print(f\"transition_table time elapsed: {end-start}\")\n",
    "\n",
    "start = time.time()\n",
    "prefix_function(pattern)\n",
    "end = time.time()\n",
    "print(f\"prefix_function time elapsed: {end-start}\")"
   ],
   "metadata": {
    "collapsed": false,
    "pycharm": {
     "name": "#%%\n",
     "is_executing": false
    }
   }
  }
 ],
 "metadata": {
  "kernelspec": {
   "display_name": "Python 3",
   "language": "python",
   "name": "python3"
  },
  "language_info": {
   "codemirror_mode": {
    "name": "ipython",
    "version": 2
   },
   "file_extension": ".py",
   "mimetype": "text/x-python",
   "name": "python",
   "nbconvert_exporter": "python",
   "pygments_lexer": "ipython2",
   "version": "2.7.6"
  },
  "pycharm": {
   "stem_cell": {
    "cell_type": "raw",
    "source": [],
    "metadata": {
     "collapsed": false
    }
   }
  }
 },
 "nbformat": 4,
 "nbformat_minor": 0
}