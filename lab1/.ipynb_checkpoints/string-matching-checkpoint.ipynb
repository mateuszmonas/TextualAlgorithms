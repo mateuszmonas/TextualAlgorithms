{
 "cells": [
  {
   "cell_type": "code",
   "execution_count": 1,
   "metadata": {
    "pycharm": {
     "is_executing": false
    }
   },
   "outputs": [],
   "source": [
    "import re\n",
    "import string\n",
    "import time\n",
    "from timeit import timeit"
   ]
  },
  {
   "cell_type": "markdown",
   "metadata": {},
   "source": [
    "# pattern matching\n",
    "\n",
    "## algorithms\n",
    "\n",
    "### naive\n"
   ]
  },
  {
   "cell_type": "code",
   "execution_count": 2,
   "metadata": {
    "pycharm": {
     "is_executing": false,
     "name": "#%%\n"
    }
   },
   "outputs": [],
   "source": [
    "def naive_patter_matching(text:string, pattern: string):\n",
    "    result = []\n",
    "    for s in range(len(text)-len(pattern)+1):    \n",
    "        if pattern==text[s:s+len(pattern)]:\n",
    "            result.append(s)\n",
    "    return result"
   ]
  },
  {
   "cell_type": "markdown",
   "metadata": {},
   "source": [
    " \n",
    "### finite automaton"
   ]
  },
  {
   "cell_type": "code",
   "execution_count": 17,
   "metadata": {
    "pycharm": {
     "is_executing": false,
     "name": "#%%\n"
    }
   },
   "outputs": [],
   "source": [
    "def transition_table(pattern:string):\n",
    "    result = []\n",
    "    alphabet = set()\n",
    "    for a in pattern:\n",
    "        alphabet.add(a)\n",
    "    for q in range(len(pattern) + 1):\n",
    "        result.append({})\n",
    "        for a in alphabet:\n",
    "            k = min(len(pattern), q + 1)\n",
    "            suffix = pattern[:q] + a\n",
    "            while pattern[:k]!=\"\" and pattern[:k] != suffix[q - k + 1:]:\n",
    "                k -= 1\n",
    "            result[q][a] = k\n",
    "    return result\n",
    "\n",
    "def finite_automaton_pattern_matching(text:string, pattern:string): \n",
    "    q = 0\n",
    "    delta = transition_table(pattern)\n",
    "    result = []\n",
    "    for s in range(0, len(text)):\n",
    "        if text[s] in delta[q]:\n",
    "            q = delta[q][text[s]]\n",
    "            if q == len(delta) - 1:\n",
    "                result.append(s + 1 - q)\n",
    "        else:\n",
    "            q=0\n",
    "    return result"
   ]
  },
  {
   "cell_type": "markdown",
   "metadata": {},
   "source": [
    "### Knutha-Morrisa-Pratta"
   ]
  },
  {
   "cell_type": "code",
   "execution_count": 18,
   "metadata": {
    "pycharm": {
     "is_executing": false,
     "name": "#%%\n"
    }
   },
   "outputs": [],
   "source": [
    "def prefix_function(pattern:string):\n",
    "    pi = [0]\n",
    "    k = 0\n",
    "    for q in range(1, len(pattern)):\n",
    "        while k > 0 and pattern[k] != pattern[q]:\n",
    "            k = pi[k-1]\n",
    "        if pattern[k] == pattern[q]:\n",
    "            k = k + 1\n",
    "        pi.append(k)\n",
    "    return pi\n",
    "\n",
    "def kmp_string_matching_pattern_matching(text, pattern):\n",
    "    pi = prefix_function(pattern)\n",
    "    q = 0\n",
    "    result = []\n",
    "    for i in range(0, len(text)):\n",
    "        while q > 0 and pattern[q] != text[i]:\n",
    "            q = pi[q-1]\n",
    "        if pattern[q] == text[i]:\n",
    "            q = q + 1\n",
    "        if q == len(pattern):\n",
    "            result.append(i + 1 - q)\n",
    "            q = pi[q-1]\n",
    "    return result"
   ]
  },
  {
   "cell_type": "markdown",
   "metadata": {},
   "source": [
    "## execution time tests"
   ]
  },
  {
   "cell_type": "code",
   "execution_count": 19,
   "metadata": {
    "pycharm": {
     "is_executing": false,
     "name": "#%%\n"
    }
   },
   "outputs": [
    {
     "name": "stdout",
     "output_type": "stream",
     "text": [
      "naive time elapsed: 0.056523799896240234\n",
      "finite automaton time elapsed: 0.017686128616333008\n",
      "Knutha-Morrisa-Pratta time elapsed: 0.030426502227783203\n"
     ]
    }
   ],
   "source": [
    "with open('1997_714.txt', 'r') as file:\n",
    "    data = file.read()\n",
    "    start = time.time()\n",
    "    naive_patter_matching(data, \"Art\")\n",
    "    end = time.time()\n",
    "    print(f\"naive time elapsed: {end-start}\")\n",
    "    start = time.time()\n",
    "    finite_automaton_pattern_matching(data, \"Art\")\n",
    "    end = time.time()\n",
    "    print(f\"finite automaton time elapsed: {end-start}\")\n",
    "    start = time.time()\n",
    "    kmp_string_matching_pattern_matching(data, \"Art\")\n",
    "    end = time.time()\n",
    "    print(f\"Knutha-Morrisa-Pratta time elapsed: {end-start}\")\n",
    "          "
   ]
  },
  {
   "cell_type": "markdown",
   "metadata": {
    "pycharm": {
     "is_executing": false,
     "name": "#%% md\n"
    }
   },
   "source": [
    "## naive worst case"
   ]
  },
  {
   "cell_type": "code",
   "execution_count": 40,
   "metadata": {
    "pycharm": {
     "is_executing": false,
     "name": "#%%\n"
    }
   },
   "outputs": [
    {
     "name": "stdout",
     "output_type": "stream",
     "text": [
      "naive time elapsed: 0.05313563346862793\n",
      "finite automaton time elapsed: 0.01462554931640625\n",
      "Knutha-Morrisa-Pratta time elapsed: 0.022936344146728516\n"
     ]
    }
   ],
   "source": [
    "pattern = \"aaaaaaaaaaaaaaaaaaaaaaaaa\"*100\n",
    "text = \"What the fuck did you just fucking say about me, you little bitch? I'll have you know I graduated top of my class in the Navy Seals, and I've been involved in numerous secret raids on Al-Quaeda, and I have over 300 confirmed kills. I am trained in gorilla warfare and I'm the top sniper in the entire US armed forces. You are nothing to me but just another target. I will wipe you the fuck out with precision the likes of which has never been seen before on this Earth, mark my fucking words. You think you can get away with saying that shit to me over the Internet? Think again, fucker. As we speak I am contacting my secret network of spies across the USA and your IP is being traced right now so you better prepare for the storm, maggot. The storm that wipes out the pathetic little thing you call your life. You're fucking dead, kid. I can be anywhere, anytime, and I can kill you in over seven hundred ways, and that's just with my bare hands. Not only am I extensively trained in unarmed combat, but I have access to the entire arsenal of the United States Marine Corps and I will use it to its full extent to wipe your miserable ass off the face of the continent, you little shit. If only you could have known what unholy retribution your little 'clever' comment was about to bring down upon you, maybe you would have held your fucking tongue. But you couldn't, you didn't, and now you're paying the price, you goddamn idiot. I will shit fury all over you and you will drown in it. You're fucking dead, kiddo.\"*100\n",
    "start = time.time()\n",
    "naive_patter_matching(text, pattern)\n",
    "end = time.time()\n",
    "print(f\"naive time elapsed: {end-start}\")\n",
    "start = time.time()\n",
    "finite_automaton_pattern_matching(text, pattern)\n",
    "end = time.time()\n",
    "print(f\"finite automaton time elapsed: {end-start}\")\n",
    "start = time.time()\n",
    "kmp_string_matching_pattern_matching(text, pattern)\n",
    "end = time.time()\n",
    "print(f\"Knutha-Morrisa-Pratta time elapsed: {end-start}\")\n",
    "          "
   ]
  },
  {
   "cell_type": "markdown",
   "metadata": {
    "pycharm": {
     "name": "#%% md\n"
    }
   },
   "source": [
    "## finite automaton worse than KMP"
   ]
  },
  {
   "cell_type": "code",
   "execution_count": 30,
   "metadata": {
    "pycharm": {
     "is_executing": false,
     "name": "#%%\n"
    }
   },
   "outputs": [
    {
     "name": "stdout",
     "output_type": "stream",
     "text": [
      "transition_table time elapsed: 0.24985671043395996\n",
      "prefix_function time elapsed: 9.059906005859375e-05\n"
     ]
    }
   ],
   "source": [
    "pattern = \"qwertyuiopasdfghjklzxcvbnm\"*10\n",
    "start = time.time()\n",
    "transition_table(pattern)\n",
    "end = time.time()\n",
    "print(f\"transition_table time elapsed: {end-start}\")\n",
    "\n",
    "start = time.time()\n",
    "prefix_function(pattern)\n",
    "end = time.time()\n",
    "print(f\"prefix_function time elapsed: {end-start}\")"
   ]
  },
  {
   "cell_type": "code",
   "execution_count": null,
   "metadata": {},
   "outputs": [],
   "source": []
  }
 ],
 "metadata": {
  "kernelspec": {
   "display_name": "Python 3",
   "language": "python",
   "name": "python3"
  },
  "language_info": {
   "codemirror_mode": {
    "name": "ipython",
    "version": 3
   },
   "file_extension": ".py",
   "mimetype": "text/x-python",
   "name": "python",
   "nbconvert_exporter": "python",
   "pygments_lexer": "ipython3",
   "version": "3.7.5"
  },
  "pycharm": {
   "stem_cell": {
    "cell_type": "raw",
    "metadata": {
     "collapsed": false
    },
    "source": []
   }
  }
 },
 "nbformat": 4,
 "nbformat_minor": 1
}
