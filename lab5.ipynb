{
 "cells": [
  {
   "cell_type": "code",
   "execution_count": null,
   "metadata": {
    "collapsed": true
   },
   "outputs": [],
   "source": [
    "from queue import Queue\n",
    "from typing import Dict, List, Set, TypeVar\n",
    "from PIL import Image\n",
    "X = TypeVar('X')\n",
    "from time import perf_counter"
   ]
  },
  {
   "cell_type": "markdown",
   "source": [
    "1. Zaimplementuj algorytm wyszukiwania wzorca 2-wymiarowego"
   ],
   "metadata": {
    "collapsed": false,
    "pycharm": {
     "name": "#%% md\n"
    }
   }
  },
  {
   "cell_type": "code",
   "execution_count": null,
   "outputs": [],
   "source": [
    "def image_to_matrix(img: Image):\n",
    "    pixel_map = img.load()\n",
    "    pixels = []\n",
    "    for row in range(img.height):\n",
    "        pix = []\n",
    "        for col in range(img.width):\n",
    "            pix.append(pixel_map[col, row][0])\n",
    "        pixels.append(pix)\n",
    "    return pixels\n",
    "\n",
    "\n",
    "class Node:\n",
    "    def __init__(self) -> None:\n",
    "        super().__init__()\n",
    "        self.state: int = 0\n",
    "        self.fail: 'Node' = None\n",
    "        self. transitions: Dict[X, 'Node'] = {}\n",
    "\n",
    "\n",
    "class Automaton:\n",
    "    def __init__(self, pattern: List[List[X]]) -> None:\n",
    "        super().__init__()\n",
    "        self.final_states: List[int] = []\n",
    "        self.final_states_automaton: Dict[int, List[int]] = {}\n",
    "        self.trie: Node = Node()\n",
    "        self.current_state: Node = self.trie\n",
    "        self.pattern = pattern\n",
    "\n",
    "        state_counter = 0\n",
    "        self.trie.state = state_counter\n",
    "        state_counter += 1\n",
    "\n",
    "        alphabet: Set[X] = set()\n",
    "\n",
    "        for i in range(len(pattern[0])):\n",
    "            temp = self.trie\n",
    "            for j in range(len(pattern)):\n",
    "                if pattern[j][i] not in temp.transitions:\n",
    "                    alphabet.add(pattern[j][i])\n",
    "                    temp.transitions[pattern[j][i]] = Node()\n",
    "                    temp.transitions[pattern[j][i]].state = state_counter\n",
    "                    state_counter += 1\n",
    "                temp = temp.transitions[pattern[j][i]]\n",
    "\n",
    "        q: Queue[Node] = Queue()\n",
    "\n",
    "        for letter in alphabet:\n",
    "            if letter in self.trie.transitions:\n",
    "                self.trie.transitions[letter].fail = self.trie\n",
    "                q.put(self.trie.transitions[letter])\n",
    "            else:\n",
    "                self.trie.transitions[letter] = self.trie\n",
    "\n",
    "        while not q.empty():\n",
    "            current_node = q.get()\n",
    "            for letter in alphabet:\n",
    "                if letter in current_node.transitions:\n",
    "                    next_node = current_node.transitions[letter]\n",
    "                    q.put(next_node)\n",
    "                    temp = current_node.fail\n",
    "                    while letter not in temp.transitions:\n",
    "                        temp = temp.fail\n",
    "                    next_node.fail = temp.transitions[letter]\n",
    "\n",
    "        self.compute_final_states(pattern)\n",
    "        self.compute_final_states_automaton()\n",
    "\n",
    "    def read_char(self, letter: X):\n",
    "        while letter not in self.current_state.transitions.keys():\n",
    "            self.current_state = self.current_state.fail\n",
    "            if self.current_state is None:\n",
    "                self.current_state = self.trie\n",
    "                return self.current_state.state\n",
    "        self.current_state = self.current_state.transitions[letter]\n",
    "        return self.current_state.state\n",
    "\n",
    "    def rollback(self):\n",
    "        self.current_state = self.trie\n",
    "\n",
    "    def compute_final_states(self, pattern: List[List[X]]):\n",
    "        for i in range(len(pattern[0])):\n",
    "            self.final_states.append(0)\n",
    "            for j in range(len(pattern)):\n",
    "                self.final_states[-1] = self.read_char(pattern[j][i])\n",
    "            self.rollback()\n",
    "\n",
    "    def compute_final_states_automaton(self):\n",
    "        for state in self.final_states:\n",
    "            if state not in self.final_states_automaton.keys():\n",
    "                self.final_states_automaton[state] = [0] * (len(self.final_states) + 1)\n",
    "        long_ps = 0\n",
    "        self.final_states_automaton[self.final_states[0]][0] = 1\n",
    "        for i in range(len(self.final_states_automaton)):\n",
    "            for state in self.final_states_automaton.values():\n",
    "                state[i] = state[long_ps]\n",
    "            if i < len(self.final_states):\n",
    "                self.final_states_automaton[self.final_states[i]][i] = i + 1\n",
    "                long_ps = self.final_states_automaton[self.final_states[i]][long_ps]\n",
    "\n",
    "    def parse_line(self, line: List[int]):\n",
    "        result: List[int] = []\n",
    "        state = 0\n",
    "        for i in range(len(line)):\n",
    "            if line[i] not in self.final_states_automaton:\n",
    "                state = 0\n",
    "                continue\n",
    "            state = self.final_states_automaton[line[i]][state]\n",
    "            if state == len(self.final_states):\n",
    "                result.append(i)\n",
    "        return result\n",
    "\n",
    "    def find(self, text: List[List[X]]):\n",
    "        result: List[(int, List[int])] = []\n",
    "        length = 0\n",
    "        automaton_output: List[List[int]] = []\n",
    "        for word in text:\n",
    "            length = max(length, len(word))\n",
    "            automaton_output.append([])\n",
    "\n",
    "        for i in range(length):\n",
    "            for j in range(len(text)):\n",
    "                if i < len(text[j]):\n",
    "                    automaton_output[j].append(self.read_char(text[j][i]))\n",
    "            self.rollback()\n",
    "\n",
    "        for i in range(len(automaton_output)):\n",
    "            temp: List[int] = self.parse_line(automaton_output[i])\n",
    "            if len(temp) != 0:\n",
    "                result.append((i, temp))\n",
    "        return [(z[0] - len(self.pattern) + 1, y - len(self.pattern[0]) + 1) for z in result for y in z[1]]"
   ],
   "metadata": {
    "collapsed": false,
    "pycharm": {
     "name": "#%%\n"
    }
   }
  },
  {
   "cell_type": "markdown",
   "source": [
    "2. Znajdź w załączonym pliku \"haystack.txt\" wszyskie sytuacje, gdy taka sama litera występuje na tej samej pozycji w dwóch kolejnych linijkach. Zwróć uwagę, na nierówną długość linii w pliku."
   ],
   "metadata": {
    "collapsed": false,
    "pycharm": {
     "name": "#%% md\n"
    }
   }
  },
  {
   "cell_type": "code",
   "execution_count": null,
   "outputs": [],
   "source": [
    "with open('haystack.txt', 'r') as file:\n",
    "    haystack = file.readlines()\n",
    "    for i in range(len(haystack)):\n",
    "        haystack[i] = list(haystack[i])\n",
    "    alphabet = set()\n",
    "    for row in haystack:\n",
    "        for letter in row:\n",
    "            alphabet.add(letter)\n",
    "    result = []\n",
    "    for letter in alphabet:\n",
    "        result.extend(Automaton([[letter], [letter]]).find(haystack))\n",
    "    print(result)"
   ],
   "metadata": {
    "collapsed": false,
    "pycharm": {
     "name": "#%%\n"
    }
   }
  },
  {
   "cell_type": "markdown",
   "source": [
    "3. Znajdź wszystkie wystąpienia \"th\" oraz \"t h\" w dwóch kolejnych liniach na tej samej pozycji."
   ],
   "metadata": {
    "collapsed": false,
    "pycharm": {
     "name": "#%% md\n"
    }
   }
  },
  {
   "cell_type": "code",
   "execution_count": null,
   "outputs": [],
   "source": [
    "with open('haystack.txt', 'r') as file:\n",
    "    haystack = file.readlines()\n",
    "    for i in range(len(haystack)):\n",
    "        haystack[i] = list(haystack[i])\n",
    "    print(\"th\")\n",
    "    print(\"th\")\n",
    "    print(Automaton([['t', 'h'], ['t', 'h']]).find(haystack))\n",
    "    print(\"t h\")\n",
    "    print(\"t h\")\n",
    "    print(Automaton([['t', ' ', 'h'], ['t', ' ', 'h']]).find(haystack))"
   ],
   "metadata": {
    "collapsed": false,
    "pycharm": {
     "name": "#%%\n"
    }
   }
  },
  {
   "cell_type": "markdown",
   "source": [
    "4. Wybierz przynajmniej 4 litery (małe). Znajdź wszystkie wystąpienia tej litery w załączonym pliku \"haystack.png\""
   ],
   "metadata": {
    "collapsed": false
   }
  },
  {
   "cell_type": "code",
   "execution_count": null,
   "outputs": [],
   "source": [
    "with Image.open('haystack.png') as img, \\\n",
    "        Image.open('patterns/s.png') as s_img, \\\n",
    "        Image.open('patterns/i.png') as i_img, \\\n",
    "        Image.open('patterns/m.png') as m_img, \\\n",
    "        Image.open('patterns/p.png') as p_img:\n",
    "    haystack = image_to_matrix(img)\n",
    "    s = image_to_matrix(s_img)\n",
    "    i = image_to_matrix(i_img)\n",
    "    m = image_to_matrix(m_img)\n",
    "    p = image_to_matrix(p_img)\n",
    "    print(\"s:\")\n",
    "    print(Automaton(s).find(haystack))\n",
    "    print(\"i:\")\n",
    "    print(Automaton(i).find(haystack))\n",
    "    print(\"m:\")\n",
    "    print(Automaton(m).find(haystack))\n",
    "    print(\"p:\")\n",
    "    print(Automaton(p).find(haystack))"
   ],
   "metadata": {
    "collapsed": false,
    "pycharm": {
     "name": "#%%\n"
    }
   }
  },
  {
   "cell_type": "markdown",
   "source": [
    "5. Znajdź wszystkie wystąpienia słowa \"p a t t e r n\" w haystack.png."
   ],
   "metadata": {
    "collapsed": false
   }
  },
  {
   "cell_type": "code",
   "execution_count": null,
   "outputs": [],
   "source": [
    "with Image.open('haystack.png') as img, \\\n",
    "        Image.open('patterns/pattern.png') as pattern_img:\n",
    "    haystack = image_to_matrix(img)\n",
    "    pattern = image_to_matrix(pattern_img)\n",
    "    print(Automaton(pattern).find(haystack))"
   ],
   "metadata": {
    "collapsed": false,
    "pycharm": {
     "name": "#%%\n"
    }
   }
  },
  {
   "cell_type": "markdown",
   "source": [
    "6. Porównaj czas budowania automatu i czas wyszukiwania dla różnych rozmiarów wzorca"
   ],
   "metadata": {
    "collapsed": false,
    "pycharm": {
     "name": "#%% md\n"
    }
   }
  },
  {
   "cell_type": "code",
   "execution_count": null,
   "outputs": [],
   "source": [
    "def time_test(text, pattern):\n",
    "    start = perf_counter()\n",
    "    automaton = Automaton(pattern)\n",
    "    end = perf_counter()\n",
    "    print(f\"automaton: {end-start}\")\n",
    "    start = perf_counter()\n",
    "    automaton.find(text)\n",
    "    end = perf_counter()\n",
    "    print(f\"search: {end-start}\")\n",
    "\n",
    "with Image.open('haystack.png') as img, \\\n",
    "        Image.open('patterns/small.png') as small_img, \\\n",
    "        Image.open('patterns/medium.png') as medium_img, \\\n",
    "        Image.open('patterns/large.png') as large_img:\n",
    "    haystack = image_to_matrix(img)\n",
    "    small = image_to_matrix(small_img)\n",
    "    medium = image_to_matrix(medium_img)\n",
    "    large = image_to_matrix(large_img)\n",
    "    print(\"small:\")\n",
    "    time_test(haystack, small)\n",
    "    print(\"medium:\")\n",
    "    time_test(haystack, medium)\n",
    "    print(\"large:\")\n",
    "    time_test(haystack, large)"
   ],
   "metadata": {
    "collapsed": false,
    "pycharm": {
     "name": "#%%\n"
    }
   }
  },
  {
   "cell_type": "markdown",
   "source": [
    "7. Podziel plik na 2, 4 i 8 fragmentów (w poziomie) i porównaj czas przeszukiwania"
   ],
   "metadata": {
    "collapsed": false
   }
  },
  {
   "cell_type": "code",
   "execution_count": null,
   "outputs": [],
   "source": [
    "def chunker_list(seq, size):\n",
    "    return (seq[i::size] for i in range(size))\n",
    "\n",
    "with Image.open('haystack.png') as img, \\\n",
    "        Image.open('patterns/pattern.png') as pattern_img:\n",
    "    haystack = image_to_matrix(img)\n",
    "    pattern = image_to_matrix(pattern_img)\n",
    "    automaton = Automaton(pattern)\n",
    "    start = perf_counter()\n",
    "    for text in chunker_list(haystack, 2):\n",
    "        automaton.find(text)\n",
    "    end = perf_counter()\n",
    "    print(f\"two parts: {end-start}\")\n",
    "    start = perf_counter()\n",
    "    for text in chunker_list(haystack, 4):\n",
    "        automaton.find(text)\n",
    "    end = perf_counter()\n",
    "    print(f\"four parts: {end-start}\")\n",
    "    start = perf_counter()\n",
    "    for text in chunker_list(haystack, 8):\n",
    "        automaton.find(text)\n",
    "    end = perf_counter()\n",
    "    print(f\"eight parts: {end-start}\")"
   ],
   "metadata": {
    "collapsed": false,
    "pycharm": {
     "name": "#%%\n"
    }
   }
  },
  {
   "cell_type": "code",
   "execution_count": null,
   "outputs": [],
   "source": [],
   "metadata": {
    "collapsed": false,
    "pycharm": {
     "name": "#%%"
    }
   }
  }
 ],
 "metadata": {
  "kernelspec": {
   "display_name": "Python 3",
   "language": "python",
   "name": "python3"
  },
  "language_info": {
   "codemirror_mode": {
    "name": "ipython",
    "version": 2
   },
   "file_extension": ".py",
   "mimetype": "text/x-python",
   "name": "python",
   "nbconvert_exporter": "python",
   "pygments_lexer": "ipython2",
   "version": "2.7.6"
  }
 },
 "nbformat": 4,
 "nbformat_minor": 0
}